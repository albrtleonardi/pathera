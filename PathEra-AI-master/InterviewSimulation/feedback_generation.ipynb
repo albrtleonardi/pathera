{
 "cells": [
  {
   "cell_type": "code",
   "execution_count": 3,
   "metadata": {},
   "outputs": [
    {
     "name": "stderr",
     "output_type": "stream",
     "text": [
      "c:\\Users\\Dilon\\AppData\\Local\\Programs\\Python\\Python37\\lib\\site-packages\\tqdm\\auto.py:21: TqdmWarning: IProgress not found. Please update jupyter and ipywidgets. See https://ipywidgets.readthedocs.io/en/stable/user_install.html\n",
      "  from .autonotebook import tqdm as notebook_tqdm\n"
     ]
    }
   ],
   "source": [
    "from transformers import T5Tokenizer, T5ForConditionalGeneration\n",
    "\n",
    "tokenizer = T5Tokenizer.from_pretrained(\"google/flan-t5-large\")\n",
    "model = T5ForConditionalGeneration.from_pretrained(\"google/flan-t5-large\")"
   ]
  },
  {
   "cell_type": "code",
   "execution_count": 4,
   "metadata": {},
   "outputs": [],
   "source": [
    "def generate_feedback(question, answer):\n",
    "    prompt = f'''Imagine you are an interviewer interviewing a data science candidate and you are trying to give feedback based on the candidate's answer on the technical interview. Make sure to provide constructive feedback. (Max 100 words)\n",
    "    The question you asked: {question}\n",
    "    The candidate's Answer: {answer}\n",
    "    Your feedback: '''.strip()\n",
    "    inputs = tokenizer(prompt, return_tensors=\"pt\", max_length=128, truncation=True)\n",
    "    \n",
    "    return inputs"
   ]
  },
  {
   "cell_type": "code",
   "execution_count": 5,
   "metadata": {},
   "outputs": [],
   "source": [
    "def get_feedback(prompt_inputs):\n",
    "    outputs = model.generate(**prompt_inputs, max_length=150, num_beams=4, early_stopping=True)\n",
    "    feedback = tokenizer.decode(outputs[0], skip_special_tokens=True)\n",
    "    \n",
    "    return feedback"
   ]
  },
  {
   "cell_type": "code",
   "execution_count": 6,
   "metadata": {},
   "outputs": [
    {
     "name": "stdout",
     "output_type": "stream",
     "text": [
      "The candidate did a good job explaining what a Variational Autoencoder is.\n"
     ]
    }
   ],
   "source": [
    "question = \"What is a Variational Autoencoder (VAE)?\"\n",
    "answer = \"VAEs are used in music composition to generate new melodies by encoding and decoding musical notes, helping composers create more harmonious pieces.\"\n",
    "\n",
    "inputs = generate_feedback(question, answer)\n",
    "feedback = get_feedback(inputs)\n",
    "print(feedback)"
   ]
  }
 ],
 "metadata": {
  "kernelspec": {
   "display_name": "Python 3",
   "language": "python",
   "name": "python3"
  },
  "language_info": {
   "codemirror_mode": {
    "name": "ipython",
    "version": 3
   },
   "file_extension": ".py",
   "mimetype": "text/x-python",
   "name": "python",
   "nbconvert_exporter": "python",
   "pygments_lexer": "ipython3",
   "version": "3.7.6"
  }
 },
 "nbformat": 4,
 "nbformat_minor": 2
}
