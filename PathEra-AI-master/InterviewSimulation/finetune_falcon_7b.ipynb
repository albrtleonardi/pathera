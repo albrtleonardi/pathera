{
  "cells": [
    {
      "cell_type": "code",
      "execution_count": 1,
      "id": "rTvFTzDwkx2NgyNr2xK1hRIT",
      "metadata": {
        "colab": {
          "base_uri": "https://localhost:8080/"
        },
        "executionInfo": {
          "elapsed": 64977,
          "status": "ok",
          "timestamp": 1724665058792,
          "user": {
            "displayName": "",
            "userId": ""
          },
          "user_tz": -420
        },
        "id": "rTvFTzDwkx2NgyNr2xK1hRIT",
        "outputId": "99014e19-6823-4e1f-f235-0b702f1097f7",
        "tags": []
      },
      "outputs": [
        {
          "name": "stdout",
          "output_type": "stream",
          "text": [
            "Requirement already satisfied: bitsandbytes==0.43.0 in /usr/local/lib/python3.10/dist-packages (0.43.0)\n",
            "Requirement already satisfied: torch in /usr/local/lib/python3.10/dist-packages (from bitsandbytes==0.43.0) (2.0.1)\n",
            "Requirement already satisfied: numpy in /usr/local/lib/python3.10/dist-packages (from bitsandbytes==0.43.0) (1.26.4)\n",
            "Requirement already satisfied: filelock in /usr/local/lib/python3.10/dist-packages (from torch->bitsandbytes==0.43.0) (3.15.4)\n",
            "Requirement already satisfied: typing-extensions in /usr/local/lib/python3.10/dist-packages (from torch->bitsandbytes==0.43.0) (4.12.2)\n",
            "Requirement already satisfied: sympy in /usr/local/lib/python3.10/dist-packages (from torch->bitsandbytes==0.43.0) (1.13.1)\n",
            "Requirement already satisfied: networkx in /usr/local/lib/python3.10/dist-packages (from torch->bitsandbytes==0.43.0) (3.3)\n",
            "Requirement already satisfied: jinja2 in /usr/local/lib/python3.10/dist-packages (from torch->bitsandbytes==0.43.0) (3.1.4)\n",
            "Requirement already satisfied: nvidia-cuda-nvrtc-cu11==11.7.99 in /usr/local/lib/python3.10/dist-packages (from torch->bitsandbytes==0.43.0) (11.7.99)\n",
            "Requirement already satisfied: nvidia-cuda-runtime-cu11==11.7.99 in /usr/local/lib/python3.10/dist-packages (from torch->bitsandbytes==0.43.0) (11.7.99)\n",
            "Requirement already satisfied: nvidia-cuda-cupti-cu11==11.7.101 in /usr/local/lib/python3.10/dist-packages (from torch->bitsandbytes==0.43.0) (11.7.101)\n",
            "Requirement already satisfied: nvidia-cudnn-cu11==8.5.0.96 in /usr/local/lib/python3.10/dist-packages (from torch->bitsandbytes==0.43.0) (8.5.0.96)\n",
            "Requirement already satisfied: nvidia-cublas-cu11==11.10.3.66 in /usr/local/lib/python3.10/dist-packages (from torch->bitsandbytes==0.43.0) (11.10.3.66)\n",
            "Requirement already satisfied: nvidia-cufft-cu11==10.9.0.58 in /usr/local/lib/python3.10/dist-packages (from torch->bitsandbytes==0.43.0) (10.9.0.58)\n",
            "Requirement already satisfied: nvidia-curand-cu11==10.2.10.91 in /usr/local/lib/python3.10/dist-packages (from torch->bitsandbytes==0.43.0) (10.2.10.91)\n",
            "Requirement already satisfied: nvidia-cusolver-cu11==11.4.0.1 in /usr/local/lib/python3.10/dist-packages (from torch->bitsandbytes==0.43.0) (11.4.0.1)\n",
            "Requirement already satisfied: nvidia-cusparse-cu11==11.7.4.91 in /usr/local/lib/python3.10/dist-packages (from torch->bitsandbytes==0.43.0) (11.7.4.91)\n",
            "Requirement already satisfied: nvidia-nccl-cu11==2.14.3 in /usr/local/lib/python3.10/dist-packages (from torch->bitsandbytes==0.43.0) (2.14.3)\n",
            "Requirement already satisfied: nvidia-nvtx-cu11==11.7.91 in /usr/local/lib/python3.10/dist-packages (from torch->bitsandbytes==0.43.0) (11.7.91)\n",
            "Requirement already satisfied: triton==2.0.0 in /usr/local/lib/python3.10/dist-packages (from torch->bitsandbytes==0.43.0) (2.0.0)\n",
            "Requirement already satisfied: setuptools in /usr/local/lib/python3.10/dist-packages (from nvidia-cublas-cu11==11.10.3.66->torch->bitsandbytes==0.43.0) (69.5.1)\n",
            "Requirement already satisfied: wheel in /usr/local/lib/python3.10/dist-packages (from nvidia-cublas-cu11==11.10.3.66->torch->bitsandbytes==0.43.0) (0.44.0)\n",
            "Requirement already satisfied: cmake in /usr/local/lib/python3.10/dist-packages (from triton==2.0.0->torch->bitsandbytes==0.43.0) (3.30.2)\n",
            "Requirement already satisfied: lit in /usr/local/lib/python3.10/dist-packages (from triton==2.0.0->torch->bitsandbytes==0.43.0) (18.1.8)\n",
            "Requirement already satisfied: MarkupSafe>=2.0 in /usr/local/lib/python3.10/dist-packages (from jinja2->torch->bitsandbytes==0.43.0) (2.1.5)\n",
            "Requirement already satisfied: mpmath<1.4,>=1.1.0 in /usr/local/lib/python3.10/dist-packages (from sympy->torch->bitsandbytes==0.43.0) (1.3.0)\n",
            "  Installing build dependencies ... \u001b[?25l\u001b[?25hdone\n",
            "  Getting requirements to build wheel ... \u001b[?25l\u001b[?25hdone\n",
            "  Preparing metadata (pyproject.toml) ... \u001b[?25l\u001b[?25hdone\n",
            "  Installing build dependencies ... \u001b[?25l\u001b[?25hdone\n",
            "  Getting requirements to build wheel ... \u001b[?25l\u001b[?25hdone\n",
            "  Preparing metadata (pyproject.toml) ... \u001b[?25l\u001b[?25hdone\n",
            "  Installing build dependencies ... \u001b[?25l\u001b[?25hdone\n",
            "  Getting requirements to build wheel ... \u001b[?25l\u001b[?25hdone\n",
            "  Preparing metadata (pyproject.toml) ... \u001b[?25l\u001b[?25hdone\n"
          ]
        }
      ],
      "source": [
        "!pip install -Uqqq pip\n",
        "!pip install bitsandbytes==0.43.0\n",
        "!pip install -qqq torch==2.0.1\n",
        "!pip install -qqq -U git+https://github.com/huggingface/transformers.git\n",
        "!pip install -qqq -U git+https://github.com/huggingface/peft.git\n",
        "!pip install -qqq -U git+https://github.com/huggingface/accelerate.git\n",
        "!pip install -qqq datasets==2.14.6\n",
        "!pip install -qqq loralib==0.1.1\n",
        "!pip install -qqq einops==0.6.1"
      ]
    },
    {
      "cell_type": "code",
      "execution_count": 19,
      "id": "xnS3ncaa8kto",
      "metadata": {
        "executionInfo": {
          "elapsed": 100,
          "status": "ok",
          "timestamp": 1724665290556,
          "user": {
            "displayName": "",
            "userId": ""
          },
          "user_tz": -420
        },
        "id": "xnS3ncaa8kto"
      },
      "outputs": [],
      "source": [
        "import json\n",
        "import os\n",
        "from pprint import pprint\n",
        "import bitsandbytes as bnb\n",
        "import pandas as pd\n",
        "import torch\n",
        "import torch.nn as nn\n",
        "import transformers\n",
        "from datasets import load_dataset, Dataset\n",
        "from sklearn.model_selection import train_test_split\n",
        "from huggingface_hub import notebook_login\n",
        "from peft import (\n",
        "    LoraConfig,\n",
        "    PeftConfig,\n",
        "    PeftModel,\n",
        "    get_peft_model,\n",
        "    prepare_model_for_kbit_training\n",
        ")\n",
        "from transformers import (\n",
        "    AutoConfig,\n",
        "    AutoModelForCausalLM,\n",
        "    AutoTokenizer,\n",
        "    BitsAndBytesConfig\n",
        ")\n",
        "\n",
        "import warnings\n",
        "warnings.filterwarnings('ignore')\n",
        "\n",
        "os.environ[\"CUDA_VISIBLE_DEVICES\"] = \"0\""
      ]
    },
    {
      "cell_type": "code",
      "execution_count": 3,
      "id": "qGVJVbcQ8oj7",
      "metadata": {
        "colab": {
          "base_uri": "https://localhost:8080/",
          "height": 49,
          "referenced_widgets": [
            "54e863c93d86400ebd0f19568edccebd",
            "5f147f4e3d8642d6aabbf5f99f294c0b",
            "0ec298dcab6848298aa2b57762778140",
            "7d820bfb321b4ea49e3c1df07f706aea",
            "3c01a531600046f1be505fb9db128169",
            "ae243c157fb54d83bec9e224472c778a",
            "cd97d21e967c4a59a948093dffd1bda5",
            "f9eb224ed0504226a9640960ee415c1b",
            "825d903933e74fc98ec4995475560c38",
            "a0ffc8c0337c4d32bb6d57181b94b54e",
            "8506a08cdba4420e9917e5ea775361a8"
          ]
        },
        "executionInfo": {
          "elapsed": 13912,
          "status": "ok",
          "timestamp": 1724665076933,
          "user": {
            "displayName": "",
            "userId": ""
          },
          "user_tz": -420
        },
        "id": "qGVJVbcQ8oj7",
        "outputId": "a9f31711-fbe6-4265-ca19-850b0d687045"
      },
      "outputs": [
        {
          "data": {
            "application/vnd.jupyter.widget-view+json": {
              "model_id": "54e863c93d86400ebd0f19568edccebd",
              "version_major": 2,
              "version_minor": 0
            },
            "text/plain": [
              "Loading checkpoint shards:   0%|          | 0/15 [00:00<?, ?it/s]"
            ]
          },
          "metadata": {},
          "output_type": "display_data"
        }
      ],
      "source": [
        "MODEL_NAME = \"vilsonrodrigues/falcon-7b-instruct-sharded\"\n",
        "\n",
        "bnb_config = BitsAndBytesConfig(\n",
        "    load_in_4bit=True,\n",
        "    bnb_4bit_use_double_quant=True,\n",
        "    bnb_4bit_quant_type=\"nf4\",\n",
        "    bnb_4bit_compute_dtype=torch.bfloat16\n",
        ")\n",
        "\n",
        "model = AutoModelForCausalLM.from_pretrained(\n",
        "    MODEL_NAME,\n",
        "    device_map=\"auto\",\n",
        "    trust_remote_code=True,\n",
        "    quantization_config=bnb_config\n",
        ")\n",
        "\n",
        "tokenizer = AutoTokenizer.from_pretrained(MODEL_NAME)\n",
        "tokenizer.pad_token = tokenizer.eos_token"
      ]
    },
    {
      "cell_type": "code",
      "execution_count": 4,
      "id": "SQcgr3ko8png",
      "metadata": {
        "colab": {
          "base_uri": "https://localhost:8080/"
        },
        "executionInfo": {
          "elapsed": 6,
          "status": "ok",
          "timestamp": 1724665076934,
          "user": {
            "displayName": "",
            "userId": ""
          },
          "user_tz": -420
        },
        "id": "SQcgr3ko8png",
        "outputId": "56e7edbc-fd98-439c-ab47-436f41376a2f"
      },
      "outputs": [
        {
          "name": "stderr",
          "output_type": "stream",
          "text": [
            "You are using an old version of the checkpointing format that is deprecated (We will also silently ignore `gradient_checkpointing_kwargs` in case you passed it).Please update to the new format on your modeling file. To use the new format, you need to completely remove the definition of the method `_set_gradient_checkpointing` in your model.\n",
            "You are using an old version of the checkpointing format that is deprecated (We will also silently ignore `gradient_checkpointing_kwargs` in case you passed it).Please update to the new format on your modeling file. To use the new format, you need to completely remove the definition of the method `_set_gradient_checkpointing` in your model.\n"
          ]
        }
      ],
      "source": [
        "model.gradient_checkpointing_enable()\n",
        "model = prepare_model_for_kbit_training(model)"
      ]
    },
    {
      "cell_type": "code",
      "execution_count": 5,
      "id": "T8XpE5L38qun",
      "metadata": {
        "colab": {
          "base_uri": "https://localhost:8080/"
        },
        "executionInfo": {
          "elapsed": 148,
          "status": "ok",
          "timestamp": 1724665077078,
          "user": {
            "displayName": "",
            "userId": ""
          },
          "user_tz": -420
        },
        "id": "T8XpE5L38qun",
        "outputId": "e2d7418a-0434-4d47-a8b1-d63e16b984d7"
      },
      "outputs": [
        {
          "data": {
            "text/plain": [
              "<bound method PeftModel.print_trainable_parameters of PeftModelForCausalLM(\n",
              "  (base_model): LoraModel(\n",
              "    (model): FalconForCausalLM(\n",
              "      (transformer): FalconModel(\n",
              "        (word_embeddings): Embedding(65024, 4544)\n",
              "        (h): ModuleList(\n",
              "          (0-31): 32 x FalconDecoderLayer(\n",
              "            (self_attention): FalconAttention(\n",
              "              (maybe_rotary): FalconRotaryEmbedding()\n",
              "              (query_key_value): lora.Linear4bit(\n",
              "                (base_layer): Linear4bit(in_features=4544, out_features=4672, bias=False)\n",
              "                (lora_dropout): ModuleDict(\n",
              "                  (default): Dropout(p=0.05, inplace=False)\n",
              "                )\n",
              "                (lora_A): ModuleDict(\n",
              "                  (default): Linear(in_features=4544, out_features=16, bias=False)\n",
              "                )\n",
              "                (lora_B): ModuleDict(\n",
              "                  (default): Linear(in_features=16, out_features=4672, bias=False)\n",
              "                )\n",
              "                (lora_embedding_A): ParameterDict()\n",
              "                (lora_embedding_B): ParameterDict()\n",
              "                (lora_magnitude_vector): ModuleDict()\n",
              "              )\n",
              "              (dense): Linear4bit(in_features=4544, out_features=4544, bias=False)\n",
              "              (attention_dropout): Dropout(p=0.0, inplace=False)\n",
              "            )\n",
              "            (mlp): FalconMLP(\n",
              "              (dense_h_to_4h): Linear4bit(in_features=4544, out_features=18176, bias=False)\n",
              "              (act): GELU(approximate='none')\n",
              "              (dense_4h_to_h): Linear4bit(in_features=18176, out_features=4544, bias=False)\n",
              "            )\n",
              "            (input_layernorm): LayerNorm((4544,), eps=1e-05, elementwise_affine=True)\n",
              "          )\n",
              "        )\n",
              "        (ln_f): LayerNorm((4544,), eps=1e-05, elementwise_affine=True)\n",
              "      )\n",
              "      (lm_head): Linear(in_features=4544, out_features=65024, bias=False)\n",
              "    )\n",
              "  )\n",
              ")>"
            ]
          },
          "execution_count": 5,
          "metadata": {},
          "output_type": "execute_result"
        }
      ],
      "source": [
        "config = LoraConfig(\n",
        "    r=16,\n",
        "    lora_alpha=32,\n",
        "    target_modules=[\"query_key_value\"],\n",
        "    lora_dropout=0.05,\n",
        "    bias=\"none\",\n",
        "    task_type=\"CAUSAL_LM\"\n",
        ")\n",
        "\n",
        "model = get_peft_model(model, config)\n",
        "model.print_trainable_parameters"
      ]
    },
    {
      "cell_type": "code",
      "execution_count": 6,
      "id": "xa8W5Jt58tD7",
      "metadata": {
        "executionInfo": {
          "elapsed": 2,
          "status": "ok",
          "timestamp": 1724665077078,
          "user": {
            "displayName": "",
            "userId": ""
          },
          "user_tz": -420
        },
        "id": "xa8W5Jt58tD7"
      },
      "outputs": [],
      "source": [
        "generation_config = model.generation_config\n",
        "generation_config.max_new_tokens = 200\n",
        "generation_config.temperature = 0.7\n",
        "generation_config.top_p = 0.7\n",
        "generation_config.num_return_sequences = 1\n",
        "generation_config.pad_token_id = tokenizer.eos_token_id\n",
        "generation_config.eos_token_id = tokenizer.eos_token_id"
      ]
    },
    {
      "cell_type": "code",
      "execution_count": 8,
      "id": "PEdHl41jP4jc",
      "metadata": {
        "executionInfo": {
          "elapsed": 12,
          "status": "ok",
          "timestamp": 1724665078093,
          "user": {
            "displayName": "",
            "userId": ""
          },
          "user_tz": -420
        },
        "id": "PEdHl41jP4jc"
      },
      "outputs": [],
      "source": [
        "def generate_prompt(data_point):\n",
        "  return f'''Imagine you are an interviewer interviewing a data science candidate and you are trying to give feedback based on the candidate's answer on the technical interview. Make sure to provide constructive feedback, answer in second person\n",
        "The question you asked: {data_point[\"Question\"]}\n",
        "The candidate's Answer: {data_point[\"Answer\"]}\n",
        "Your feedback: '''.strip()\n",
        "\n",
        "# def generate_prompt(data_point):\n",
        "#   return f'''You are an interviewer evaluating a data science interviewee. You want to give constructive feedback directly to the interviewee. Identify the correctness of the answer and you aim to help the interviewee understand where they can improve. Make sure your feedback is in the second person (using \"you\") and does not refer to the interviewee as \"the candidate.\"\n",
        "# The question you asked: {data_point[\"Question\"]}\n",
        "# The candidate's Answer: {data_point[\"Answer\"]}\n",
        "# Your feedback: '''"
      ]
    },
    {
      "cell_type": "code",
      "execution_count": 9,
      "id": "9eTT1S1vGNmK",
      "metadata": {
        "executionInfo": {
          "elapsed": 11,
          "status": "ok",
          "timestamp": 1724665078094,
          "user": {
            "displayName": "",
            "userId": ""
          },
          "user_tz": -420
        },
        "id": "9eTT1S1vGNmK"
      },
      "outputs": [],
      "source": [
        "def generate_and_tokenize_prompt(data_point):\n",
        "  full_prompt = generate_prompt(data_point)\n",
        "  tokenized_prompt = tokenizer(full_prompt, padding=True, truncation=True)\n",
        "  return tokenized_prompt"
      ]
    },
    {
      "cell_type": "code",
      "execution_count": 23,
      "id": "3AllIPCGDnMA",
      "metadata": {
        "executionInfo": {
          "elapsed": 833,
          "status": "ok",
          "timestamp": 1724665340632,
          "user": {
            "displayName": "",
            "userId": ""
          },
          "user_tz": -420
        },
        "id": "3AllIPCGDnMA"
      },
      "outputs": [],
      "source": [
        "data = load_dataset(\"csv\", data_files=\"/content/feedback_dataset_cleaned.csv\")['train']"
      ]
    },
    {
      "cell_type": "code",
      "execution_count": 26,
      "id": "1nIaP3vgGl85",
      "metadata": {
        "colab": {
          "base_uri": "https://localhost:8080/",
          "height": 49,
          "referenced_widgets": [
            "4e0ee56073234675944ad02687e29cad",
            "eb21e0e543664820aadd850c224a7ea2",
            "c62ef732fcb649ffb7c47514223891bc",
            "d4eb6d21c78044e5950c8539b450e02a",
            "1708fcaaef8741daa5fb91bd3935e832",
            "efdd21911f0647118823d6bfa252ab61",
            "d9ea5967789e4f69b860423b8e8b5710",
            "4b4a614d4e4749c0bb2990f911fb820f",
            "0a225e8339b747bc94e331bd0bd7953d",
            "0b2e6acd2f2549e28e30739af847f0e3",
            "5fab1adab756490f8dcc88d4b2c3bb07"
          ]
        },
        "executionInfo": {
          "elapsed": 1638,
          "status": "ok",
          "timestamp": 1724665352647,
          "user": {
            "displayName": "",
            "userId": ""
          },
          "user_tz": -420
        },
        "id": "1nIaP3vgGl85",
        "outputId": "519a790e-8f50-4645-9c85-825849ef9433"
      },
      "outputs": [
        {
          "data": {
            "application/vnd.jupyter.widget-view+json": {
              "model_id": "4e0ee56073234675944ad02687e29cad",
              "version_major": 2,
              "version_minor": 0
            },
            "text/plain": [
              "Map:   0%|          | 0/1777 [00:00<?, ? examples/s]"
            ]
          },
          "metadata": {},
          "output_type": "display_data"
        }
      ],
      "source": [
        "data = data.shuffle().map(generate_and_tokenize_prompt)"
      ]
    },
    {
      "cell_type": "code",
      "execution_count": 28,
      "id": "JEJmrdqqAhPo",
      "metadata": {
        "executionInfo": {
          "elapsed": 106,
          "status": "ok",
          "timestamp": 1724665400653,
          "user": {
            "displayName": "",
            "userId": ""
          },
          "user_tz": -420
        },
        "id": "JEJmrdqqAhPo"
      },
      "outputs": [],
      "source": [
        "split_data = data.train_test_split(test_size=0.1)\n",
        "\n",
        "train_data = split_data['train']\n",
        "eval_data = split_data['test']"
      ]
    },
    {
      "cell_type": "code",
      "execution_count": null,
      "id": "hzDVQeEwG4iH",
      "metadata": {
        "colab": {
          "base_uri": "https://localhost:8080/",
          "height": 263
        },
        "id": "hzDVQeEwG4iH",
        "outputId": "f99f60e8-ec64-4eb3-d467-15097f96de23"
      },
      "outputs": [
        {
          "data": {
            "text/html": [
              "\n",
              "    <div>\n",
              "      \n",
              "      <progress value='7' max='200' style='width:300px; height:20px; vertical-align: middle;'></progress>\n",
              "      [  7/200 03:01 < 1:56:59, 0.03 it/s, Epoch 0.03/1]\n",
              "    </div>\n",
              "    <table border=\"1\" class=\"dataframe\">\n",
              "  <thead>\n",
              " <tr style=\"text-align: left;\">\n",
              "      <th>Step</th>\n",
              "      <th>Training Loss</th>\n",
              "      <th>Validation Loss</th>\n",
              "    </tr>\n",
              "  </thead>\n",
              "  <tbody>\n",
              "    <tr>\n",
              "      <td>1</td>\n",
              "      <td>2.902000</td>\n",
              "      <td>2.868520</td>\n",
              "    </tr>\n",
              "    <tr>\n",
              "      <td>2</td>\n",
              "      <td>2.973800</td>\n",
              "      <td>2.867882</td>\n",
              "    </tr>\n",
              "    <tr>\n",
              "      <td>3</td>\n",
              "      <td>2.795800</td>\n",
              "      <td>2.867757</td>\n",
              "    </tr>\n",
              "    <tr>\n",
              "      <td>4</td>\n",
              "      <td>2.605000</td>\n",
              "      <td>2.866715</td>\n",
              "    </tr>\n",
              "    <tr>\n",
              "      <td>5</td>\n",
              "      <td>2.741100</td>\n",
              "      <td>2.865844</td>\n",
              "    </tr>\n",
              "    <tr>\n",
              "      <td>6</td>\n",
              "      <td>2.889400</td>\n",
              "      <td>2.864560</td>\n",
              "    </tr>\n",
              "  </tbody>\n",
              "</table><p>"
            ],
            "text/plain": [
              "<IPython.core.display.HTML object>"
            ]
          },
          "metadata": {},
          "output_type": "display_data"
        }
      ],
      "source": [
        "training_args = transformers.TrainingArguments(\n",
        "    per_device_train_batch_size=2,\n",
        "    gradient_accumulation_steps=4,\n",
        "    num_train_epochs=1,\n",
        "    learning_rate=1e-5,\n",
        "    fp16=True,\n",
        "    save_total_limit=3,\n",
        "    logging_steps=1,\n",
        "    output_dir=\"model\",\n",
        "    evaluation_strategy=\"steps\",\n",
        "    optim=\"paged_adamw_8bit\",\n",
        "    lr_scheduler_type=\"cosine\",\n",
        "    warmup_ratio=0.05,\n",
        "    load_best_model_at_end=True\n",
        ")\n",
        "\n",
        "trainer = transformers.Trainer(\n",
        "    model=model,\n",
        "    train_dataset=train_data,\n",
        "    eval_dataset=eval_data,\n",
        "    args=training_args,\n",
        "    data_collator=transformers.DataCollatorForLanguageModeling(tokenizer, mlm=False)\n",
        ")\n",
        "\n",
        "model.config.use_cache = False\n",
        "trainer.train()"
      ]
    },
    {
      "cell_type": "code",
      "execution_count": null,
      "id": "X9K9pRhClgcm",
      "metadata": {
        "executionInfo": {
          "elapsed": 5,
          "status": "aborted",
          "timestamp": 1724665500150,
          "user": {
            "displayName": "",
            "userId": ""
          },
          "user_tz": -420
        },
        "id": "X9K9pRhClgcm"
      },
      "outputs": [],
      "source": [
        "model.save_pretrained(\"fine-tuned\")"
      ]
    },
    {
      "cell_type": "code",
      "execution_count": null,
      "id": "wKh57SIGmVYe",
      "metadata": {
        "executionInfo": {
          "elapsed": 9,
          "status": "aborted",
          "timestamp": 1724664938926,
          "user": {
            "displayName": "",
            "userId": ""
          },
          "user_tz": -420
        },
        "id": "wKh57SIGmVYe"
      },
      "outputs": [],
      "source": [
        "notebook_login()"
      ]
    },
    {
      "cell_type": "code",
      "execution_count": null,
      "id": "roZjRp_Kpzqr",
      "metadata": {
        "executionInfo": {
          "elapsed": 9,
          "status": "aborted",
          "timestamp": 1724664938926,
          "user": {
            "displayName": "",
            "userId": ""
          },
          "user_tz": -420
        },
        "id": "roZjRp_Kpzqr"
      },
      "outputs": [],
      "source": [
        "PEFT_MODEL = \"wongsodillon/feedback-generator-falcon7b\""
      ]
    },
    {
      "cell_type": "code",
      "execution_count": null,
      "id": "5PDZ9BSVmFHm",
      "metadata": {
        "executionInfo": {
          "elapsed": 9,
          "status": "aborted",
          "timestamp": 1724664938926,
          "user": {
            "displayName": "",
            "userId": ""
          },
          "user_tz": -420
        },
        "id": "5PDZ9BSVmFHm"
      },
      "outputs": [],
      "source": [
        "model.push_to_hub(\n",
        "    PEFT_MODEL, use_auth_token=True\n",
        ")"
      ]
    }
  ],
  "metadata": {
    "colab": {
      "name": "finetune_falcon7b",
      "provenance": []
    },
    "kernelspec": {
      "display_name": "Python 3",
      "language": "python",
      "name": "python3"
    },
    "language_info": {
      "codemirror_mode": {
        "name": "ipython",
        "version": 3
      },
      "file_extension": ".py",
      "mimetype": "text/x-python",
      "name": "python",
      "nbconvert_exporter": "python",
      "pygments_lexer": "ipython3",
      "version": "3.10.10"
    },
    "widgets": {
      "application/vnd.jupyter.widget-state+json": {
        "0a225e8339b747bc94e331bd0bd7953d": {
          "model_module": "@jupyter-widgets/controls",
          "model_module_version": "1.5.0",
          "model_name": "ProgressStyleModel",
          "state": {
            "_model_module": "@jupyter-widgets/controls",
            "_model_module_version": "1.5.0",
            "_model_name": "ProgressStyleModel",
            "_view_count": null,
            "_view_module": "@jupyter-widgets/base",
            "_view_module_version": "1.2.0",
            "_view_name": "StyleView",
            "bar_color": null,
            "description_width": ""
          }
        },
        "0b2e6acd2f2549e28e30739af847f0e3": {
          "model_module": "@jupyter-widgets/base",
          "model_module_version": "1.2.0",
          "model_name": "LayoutModel",
          "state": {
            "_model_module": "@jupyter-widgets/base",
            "_model_module_version": "1.2.0",
            "_model_name": "LayoutModel",
            "_view_count": null,
            "_view_module": "@jupyter-widgets/base",
            "_view_module_version": "1.2.0",
            "_view_name": "LayoutView",
            "align_content": null,
            "align_items": null,
            "align_self": null,
            "border": null,
            "bottom": null,
            "display": null,
            "flex": null,
            "flex_flow": null,
            "grid_area": null,
            "grid_auto_columns": null,
            "grid_auto_flow": null,
            "grid_auto_rows": null,
            "grid_column": null,
            "grid_gap": null,
            "grid_row": null,
            "grid_template_areas": null,
            "grid_template_columns": null,
            "grid_template_rows": null,
            "height": null,
            "justify_content": null,
            "justify_items": null,
            "left": null,
            "margin": null,
            "max_height": null,
            "max_width": null,
            "min_height": null,
            "min_width": null,
            "object_fit": null,
            "object_position": null,
            "order": null,
            "overflow": null,
            "overflow_x": null,
            "overflow_y": null,
            "padding": null,
            "right": null,
            "top": null,
            "visibility": null,
            "width": null
          }
        },
        "0ec298dcab6848298aa2b57762778140": {
          "model_module": "@jupyter-widgets/controls",
          "model_module_version": "1.5.0",
          "model_name": "FloatProgressModel",
          "state": {
            "_dom_classes": [],
            "_model_module": "@jupyter-widgets/controls",
            "_model_module_version": "1.5.0",
            "_model_name": "FloatProgressModel",
            "_view_count": null,
            "_view_module": "@jupyter-widgets/controls",
            "_view_module_version": "1.5.0",
            "_view_name": "ProgressView",
            "bar_style": "success",
            "description": "",
            "description_tooltip": null,
            "layout": "IPY_MODEL_f9eb224ed0504226a9640960ee415c1b",
            "max": 15,
            "min": 0,
            "orientation": "horizontal",
            "style": "IPY_MODEL_825d903933e74fc98ec4995475560c38",
            "value": 15
          }
        },
        "1708fcaaef8741daa5fb91bd3935e832": {
          "model_module": "@jupyter-widgets/base",
          "model_module_version": "1.2.0",
          "model_name": "LayoutModel",
          "state": {
            "_model_module": "@jupyter-widgets/base",
            "_model_module_version": "1.2.0",
            "_model_name": "LayoutModel",
            "_view_count": null,
            "_view_module": "@jupyter-widgets/base",
            "_view_module_version": "1.2.0",
            "_view_name": "LayoutView",
            "align_content": null,
            "align_items": null,
            "align_self": null,
            "border": null,
            "bottom": null,
            "display": null,
            "flex": null,
            "flex_flow": null,
            "grid_area": null,
            "grid_auto_columns": null,
            "grid_auto_flow": null,
            "grid_auto_rows": null,
            "grid_column": null,
            "grid_gap": null,
            "grid_row": null,
            "grid_template_areas": null,
            "grid_template_columns": null,
            "grid_template_rows": null,
            "height": null,
            "justify_content": null,
            "justify_items": null,
            "left": null,
            "margin": null,
            "max_height": null,
            "max_width": null,
            "min_height": null,
            "min_width": null,
            "object_fit": null,
            "object_position": null,
            "order": null,
            "overflow": null,
            "overflow_x": null,
            "overflow_y": null,
            "padding": null,
            "right": null,
            "top": null,
            "visibility": null,
            "width": null
          }
        },
        "3c01a531600046f1be505fb9db128169": {
          "model_module": "@jupyter-widgets/base",
          "model_module_version": "1.2.0",
          "model_name": "LayoutModel",
          "state": {
            "_model_module": "@jupyter-widgets/base",
            "_model_module_version": "1.2.0",
            "_model_name": "LayoutModel",
            "_view_count": null,
            "_view_module": "@jupyter-widgets/base",
            "_view_module_version": "1.2.0",
            "_view_name": "LayoutView",
            "align_content": null,
            "align_items": null,
            "align_self": null,
            "border": null,
            "bottom": null,
            "display": null,
            "flex": null,
            "flex_flow": null,
            "grid_area": null,
            "grid_auto_columns": null,
            "grid_auto_flow": null,
            "grid_auto_rows": null,
            "grid_column": null,
            "grid_gap": null,
            "grid_row": null,
            "grid_template_areas": null,
            "grid_template_columns": null,
            "grid_template_rows": null,
            "height": null,
            "justify_content": null,
            "justify_items": null,
            "left": null,
            "margin": null,
            "max_height": null,
            "max_width": null,
            "min_height": null,
            "min_width": null,
            "object_fit": null,
            "object_position": null,
            "order": null,
            "overflow": null,
            "overflow_x": null,
            "overflow_y": null,
            "padding": null,
            "right": null,
            "top": null,
            "visibility": null,
            "width": null
          }
        },
        "4b4a614d4e4749c0bb2990f911fb820f": {
          "model_module": "@jupyter-widgets/base",
          "model_module_version": "1.2.0",
          "model_name": "LayoutModel",
          "state": {
            "_model_module": "@jupyter-widgets/base",
            "_model_module_version": "1.2.0",
            "_model_name": "LayoutModel",
            "_view_count": null,
            "_view_module": "@jupyter-widgets/base",
            "_view_module_version": "1.2.0",
            "_view_name": "LayoutView",
            "align_content": null,
            "align_items": null,
            "align_self": null,
            "border": null,
            "bottom": null,
            "display": null,
            "flex": null,
            "flex_flow": null,
            "grid_area": null,
            "grid_auto_columns": null,
            "grid_auto_flow": null,
            "grid_auto_rows": null,
            "grid_column": null,
            "grid_gap": null,
            "grid_row": null,
            "grid_template_areas": null,
            "grid_template_columns": null,
            "grid_template_rows": null,
            "height": null,
            "justify_content": null,
            "justify_items": null,
            "left": null,
            "margin": null,
            "max_height": null,
            "max_width": null,
            "min_height": null,
            "min_width": null,
            "object_fit": null,
            "object_position": null,
            "order": null,
            "overflow": null,
            "overflow_x": null,
            "overflow_y": null,
            "padding": null,
            "right": null,
            "top": null,
            "visibility": null,
            "width": null
          }
        },
        "4e0ee56073234675944ad02687e29cad": {
          "model_module": "@jupyter-widgets/controls",
          "model_module_version": "1.5.0",
          "model_name": "HBoxModel",
          "state": {
            "_dom_classes": [],
            "_model_module": "@jupyter-widgets/controls",
            "_model_module_version": "1.5.0",
            "_model_name": "HBoxModel",
            "_view_count": null,
            "_view_module": "@jupyter-widgets/controls",
            "_view_module_version": "1.5.0",
            "_view_name": "HBoxView",
            "box_style": "",
            "children": [
              "IPY_MODEL_eb21e0e543664820aadd850c224a7ea2",
              "IPY_MODEL_c62ef732fcb649ffb7c47514223891bc",
              "IPY_MODEL_d4eb6d21c78044e5950c8539b450e02a"
            ],
            "layout": "IPY_MODEL_1708fcaaef8741daa5fb91bd3935e832"
          }
        },
        "54e863c93d86400ebd0f19568edccebd": {
          "model_module": "@jupyter-widgets/controls",
          "model_module_version": "1.5.0",
          "model_name": "HBoxModel",
          "state": {
            "_dom_classes": [],
            "_model_module": "@jupyter-widgets/controls",
            "_model_module_version": "1.5.0",
            "_model_name": "HBoxModel",
            "_view_count": null,
            "_view_module": "@jupyter-widgets/controls",
            "_view_module_version": "1.5.0",
            "_view_name": "HBoxView",
            "box_style": "",
            "children": [
              "IPY_MODEL_5f147f4e3d8642d6aabbf5f99f294c0b",
              "IPY_MODEL_0ec298dcab6848298aa2b57762778140",
              "IPY_MODEL_7d820bfb321b4ea49e3c1df07f706aea"
            ],
            "layout": "IPY_MODEL_3c01a531600046f1be505fb9db128169"
          }
        },
        "5f147f4e3d8642d6aabbf5f99f294c0b": {
          "model_module": "@jupyter-widgets/controls",
          "model_module_version": "1.5.0",
          "model_name": "HTMLModel",
          "state": {
            "_dom_classes": [],
            "_model_module": "@jupyter-widgets/controls",
            "_model_module_version": "1.5.0",
            "_model_name": "HTMLModel",
            "_view_count": null,
            "_view_module": "@jupyter-widgets/controls",
            "_view_module_version": "1.5.0",
            "_view_name": "HTMLView",
            "description": "",
            "description_tooltip": null,
            "layout": "IPY_MODEL_ae243c157fb54d83bec9e224472c778a",
            "placeholder": "​",
            "style": "IPY_MODEL_cd97d21e967c4a59a948093dffd1bda5",
            "value": "Loading checkpoint shards: 100%"
          }
        },
        "5fab1adab756490f8dcc88d4b2c3bb07": {
          "model_module": "@jupyter-widgets/controls",
          "model_module_version": "1.5.0",
          "model_name": "DescriptionStyleModel",
          "state": {
            "_model_module": "@jupyter-widgets/controls",
            "_model_module_version": "1.5.0",
            "_model_name": "DescriptionStyleModel",
            "_view_count": null,
            "_view_module": "@jupyter-widgets/base",
            "_view_module_version": "1.2.0",
            "_view_name": "StyleView",
            "description_width": ""
          }
        },
        "7d820bfb321b4ea49e3c1df07f706aea": {
          "model_module": "@jupyter-widgets/controls",
          "model_module_version": "1.5.0",
          "model_name": "HTMLModel",
          "state": {
            "_dom_classes": [],
            "_model_module": "@jupyter-widgets/controls",
            "_model_module_version": "1.5.0",
            "_model_name": "HTMLModel",
            "_view_count": null,
            "_view_module": "@jupyter-widgets/controls",
            "_view_module_version": "1.5.0",
            "_view_name": "HTMLView",
            "description": "",
            "description_tooltip": null,
            "layout": "IPY_MODEL_a0ffc8c0337c4d32bb6d57181b94b54e",
            "placeholder": "​",
            "style": "IPY_MODEL_8506a08cdba4420e9917e5ea775361a8",
            "value": " 15/15 [00:10&lt;00:00,  1.59it/s]"
          }
        },
        "825d903933e74fc98ec4995475560c38": {
          "model_module": "@jupyter-widgets/controls",
          "model_module_version": "1.5.0",
          "model_name": "ProgressStyleModel",
          "state": {
            "_model_module": "@jupyter-widgets/controls",
            "_model_module_version": "1.5.0",
            "_model_name": "ProgressStyleModel",
            "_view_count": null,
            "_view_module": "@jupyter-widgets/base",
            "_view_module_version": "1.2.0",
            "_view_name": "StyleView",
            "bar_color": null,
            "description_width": ""
          }
        },
        "8506a08cdba4420e9917e5ea775361a8": {
          "model_module": "@jupyter-widgets/controls",
          "model_module_version": "1.5.0",
          "model_name": "DescriptionStyleModel",
          "state": {
            "_model_module": "@jupyter-widgets/controls",
            "_model_module_version": "1.5.0",
            "_model_name": "DescriptionStyleModel",
            "_view_count": null,
            "_view_module": "@jupyter-widgets/base",
            "_view_module_version": "1.2.0",
            "_view_name": "StyleView",
            "description_width": ""
          }
        },
        "a0ffc8c0337c4d32bb6d57181b94b54e": {
          "model_module": "@jupyter-widgets/base",
          "model_module_version": "1.2.0",
          "model_name": "LayoutModel",
          "state": {
            "_model_module": "@jupyter-widgets/base",
            "_model_module_version": "1.2.0",
            "_model_name": "LayoutModel",
            "_view_count": null,
            "_view_module": "@jupyter-widgets/base",
            "_view_module_version": "1.2.0",
            "_view_name": "LayoutView",
            "align_content": null,
            "align_items": null,
            "align_self": null,
            "border": null,
            "bottom": null,
            "display": null,
            "flex": null,
            "flex_flow": null,
            "grid_area": null,
            "grid_auto_columns": null,
            "grid_auto_flow": null,
            "grid_auto_rows": null,
            "grid_column": null,
            "grid_gap": null,
            "grid_row": null,
            "grid_template_areas": null,
            "grid_template_columns": null,
            "grid_template_rows": null,
            "height": null,
            "justify_content": null,
            "justify_items": null,
            "left": null,
            "margin": null,
            "max_height": null,
            "max_width": null,
            "min_height": null,
            "min_width": null,
            "object_fit": null,
            "object_position": null,
            "order": null,
            "overflow": null,
            "overflow_x": null,
            "overflow_y": null,
            "padding": null,
            "right": null,
            "top": null,
            "visibility": null,
            "width": null
          }
        },
        "ae243c157fb54d83bec9e224472c778a": {
          "model_module": "@jupyter-widgets/base",
          "model_module_version": "1.2.0",
          "model_name": "LayoutModel",
          "state": {
            "_model_module": "@jupyter-widgets/base",
            "_model_module_version": "1.2.0",
            "_model_name": "LayoutModel",
            "_view_count": null,
            "_view_module": "@jupyter-widgets/base",
            "_view_module_version": "1.2.0",
            "_view_name": "LayoutView",
            "align_content": null,
            "align_items": null,
            "align_self": null,
            "border": null,
            "bottom": null,
            "display": null,
            "flex": null,
            "flex_flow": null,
            "grid_area": null,
            "grid_auto_columns": null,
            "grid_auto_flow": null,
            "grid_auto_rows": null,
            "grid_column": null,
            "grid_gap": null,
            "grid_row": null,
            "grid_template_areas": null,
            "grid_template_columns": null,
            "grid_template_rows": null,
            "height": null,
            "justify_content": null,
            "justify_items": null,
            "left": null,
            "margin": null,
            "max_height": null,
            "max_width": null,
            "min_height": null,
            "min_width": null,
            "object_fit": null,
            "object_position": null,
            "order": null,
            "overflow": null,
            "overflow_x": null,
            "overflow_y": null,
            "padding": null,
            "right": null,
            "top": null,
            "visibility": null,
            "width": null
          }
        },
        "c62ef732fcb649ffb7c47514223891bc": {
          "model_module": "@jupyter-widgets/controls",
          "model_module_version": "1.5.0",
          "model_name": "FloatProgressModel",
          "state": {
            "_dom_classes": [],
            "_model_module": "@jupyter-widgets/controls",
            "_model_module_version": "1.5.0",
            "_model_name": "FloatProgressModel",
            "_view_count": null,
            "_view_module": "@jupyter-widgets/controls",
            "_view_module_version": "1.5.0",
            "_view_name": "ProgressView",
            "bar_style": "success",
            "description": "",
            "description_tooltip": null,
            "layout": "IPY_MODEL_4b4a614d4e4749c0bb2990f911fb820f",
            "max": 1777,
            "min": 0,
            "orientation": "horizontal",
            "style": "IPY_MODEL_0a225e8339b747bc94e331bd0bd7953d",
            "value": 1777
          }
        },
        "cd97d21e967c4a59a948093dffd1bda5": {
          "model_module": "@jupyter-widgets/controls",
          "model_module_version": "1.5.0",
          "model_name": "DescriptionStyleModel",
          "state": {
            "_model_module": "@jupyter-widgets/controls",
            "_model_module_version": "1.5.0",
            "_model_name": "DescriptionStyleModel",
            "_view_count": null,
            "_view_module": "@jupyter-widgets/base",
            "_view_module_version": "1.2.0",
            "_view_name": "StyleView",
            "description_width": ""
          }
        },
        "d4eb6d21c78044e5950c8539b450e02a": {
          "model_module": "@jupyter-widgets/controls",
          "model_module_version": "1.5.0",
          "model_name": "HTMLModel",
          "state": {
            "_dom_classes": [],
            "_model_module": "@jupyter-widgets/controls",
            "_model_module_version": "1.5.0",
            "_model_name": "HTMLModel",
            "_view_count": null,
            "_view_module": "@jupyter-widgets/controls",
            "_view_module_version": "1.5.0",
            "_view_name": "HTMLView",
            "description": "",
            "description_tooltip": null,
            "layout": "IPY_MODEL_0b2e6acd2f2549e28e30739af847f0e3",
            "placeholder": "​",
            "style": "IPY_MODEL_5fab1adab756490f8dcc88d4b2c3bb07",
            "value": " 1777/1777 [00:01&lt;00:00, 1240.30 examples/s]"
          }
        },
        "d9ea5967789e4f69b860423b8e8b5710": {
          "model_module": "@jupyter-widgets/controls",
          "model_module_version": "1.5.0",
          "model_name": "DescriptionStyleModel",
          "state": {
            "_model_module": "@jupyter-widgets/controls",
            "_model_module_version": "1.5.0",
            "_model_name": "DescriptionStyleModel",
            "_view_count": null,
            "_view_module": "@jupyter-widgets/base",
            "_view_module_version": "1.2.0",
            "_view_name": "StyleView",
            "description_width": ""
          }
        },
        "eb21e0e543664820aadd850c224a7ea2": {
          "model_module": "@jupyter-widgets/controls",
          "model_module_version": "1.5.0",
          "model_name": "HTMLModel",
          "state": {
            "_dom_classes": [],
            "_model_module": "@jupyter-widgets/controls",
            "_model_module_version": "1.5.0",
            "_model_name": "HTMLModel",
            "_view_count": null,
            "_view_module": "@jupyter-widgets/controls",
            "_view_module_version": "1.5.0",
            "_view_name": "HTMLView",
            "description": "",
            "description_tooltip": null,
            "layout": "IPY_MODEL_efdd21911f0647118823d6bfa252ab61",
            "placeholder": "​",
            "style": "IPY_MODEL_d9ea5967789e4f69b860423b8e8b5710",
            "value": "Map: 100%"
          }
        },
        "efdd21911f0647118823d6bfa252ab61": {
          "model_module": "@jupyter-widgets/base",
          "model_module_version": "1.2.0",
          "model_name": "LayoutModel",
          "state": {
            "_model_module": "@jupyter-widgets/base",
            "_model_module_version": "1.2.0",
            "_model_name": "LayoutModel",
            "_view_count": null,
            "_view_module": "@jupyter-widgets/base",
            "_view_module_version": "1.2.0",
            "_view_name": "LayoutView",
            "align_content": null,
            "align_items": null,
            "align_self": null,
            "border": null,
            "bottom": null,
            "display": null,
            "flex": null,
            "flex_flow": null,
            "grid_area": null,
            "grid_auto_columns": null,
            "grid_auto_flow": null,
            "grid_auto_rows": null,
            "grid_column": null,
            "grid_gap": null,
            "grid_row": null,
            "grid_template_areas": null,
            "grid_template_columns": null,
            "grid_template_rows": null,
            "height": null,
            "justify_content": null,
            "justify_items": null,
            "left": null,
            "margin": null,
            "max_height": null,
            "max_width": null,
            "min_height": null,
            "min_width": null,
            "object_fit": null,
            "object_position": null,
            "order": null,
            "overflow": null,
            "overflow_x": null,
            "overflow_y": null,
            "padding": null,
            "right": null,
            "top": null,
            "visibility": null,
            "width": null
          }
        },
        "f9eb224ed0504226a9640960ee415c1b": {
          "model_module": "@jupyter-widgets/base",
          "model_module_version": "1.2.0",
          "model_name": "LayoutModel",
          "state": {
            "_model_module": "@jupyter-widgets/base",
            "_model_module_version": "1.2.0",
            "_model_name": "LayoutModel",
            "_view_count": null,
            "_view_module": "@jupyter-widgets/base",
            "_view_module_version": "1.2.0",
            "_view_name": "LayoutView",
            "align_content": null,
            "align_items": null,
            "align_self": null,
            "border": null,
            "bottom": null,
            "display": null,
            "flex": null,
            "flex_flow": null,
            "grid_area": null,
            "grid_auto_columns": null,
            "grid_auto_flow": null,
            "grid_auto_rows": null,
            "grid_column": null,
            "grid_gap": null,
            "grid_row": null,
            "grid_template_areas": null,
            "grid_template_columns": null,
            "grid_template_rows": null,
            "height": null,
            "justify_content": null,
            "justify_items": null,
            "left": null,
            "margin": null,
            "max_height": null,
            "max_width": null,
            "min_height": null,
            "min_width": null,
            "object_fit": null,
            "object_position": null,
            "order": null,
            "overflow": null,
            "overflow_x": null,
            "overflow_y": null,
            "padding": null,
            "right": null,
            "top": null,
            "visibility": null,
            "width": null
          }
        }
      }
    }
  },
  "nbformat": 4,
  "nbformat_minor": 5
}
