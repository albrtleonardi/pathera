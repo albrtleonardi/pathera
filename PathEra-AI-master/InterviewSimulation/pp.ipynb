{
 "cells": [
  {
   "cell_type": "code",
   "execution_count": 40,
   "metadata": {},
   "outputs": [],
   "source": [
    "import pandas as pd\n",
    "import numpy as np\n",
    "pd.set_option('display.max_colwidth', None)"
   ]
  },
  {
   "cell_type": "code",
   "execution_count": 41,
   "metadata": {},
   "outputs": [
    {
     "name": "stdout",
     "output_type": "stream",
     "text": [
      "(2764, 3)\n",
      "(3129, 3)\n"
     ]
    }
   ],
   "source": [
    "data = pd.read_csv(\"data_science_questions.csv\")\n",
    "data2 = pd.read_csv(\"data_science_augmented.csv\")\n",
    "print(data.shape)\n",
    "print(data2.shape)"
   ]
  },
  {
   "cell_type": "code",
   "execution_count": 42,
   "metadata": {},
   "outputs": [],
   "source": [
    "data = pd.concat([data, data2], ignore_index=True)"
   ]
  },
  {
   "cell_type": "code",
   "execution_count": 43,
   "metadata": {},
   "outputs": [],
   "source": [
    "data = data.drop(columns=[\"Topic\"])"
   ]
  },
  {
   "cell_type": "code",
   "execution_count": 44,
   "metadata": {},
   "outputs": [],
   "source": [
    "data[\"Label\"] = data[\"Label\"].fillna(\"Correct\")"
   ]
  },
  {
   "cell_type": "code",
   "execution_count": 45,
   "metadata": {},
   "outputs": [
    {
     "data": {
      "text/html": [
       "<div>\n",
       "<style scoped>\n",
       "    .dataframe tbody tr th:only-of-type {\n",
       "        vertical-align: middle;\n",
       "    }\n",
       "\n",
       "    .dataframe tbody tr th {\n",
       "        vertical-align: top;\n",
       "    }\n",
       "\n",
       "    .dataframe thead th {\n",
       "        text-align: right;\n",
       "    }\n",
       "</style>\n",
       "<table border=\"1\" class=\"dataframe\">\n",
       "  <thead>\n",
       "    <tr style=\"text-align: right;\">\n",
       "      <th></th>\n",
       "      <th>Question</th>\n",
       "      <th>Answer</th>\n",
       "      <th>Label</th>\n",
       "    </tr>\n",
       "  </thead>\n",
       "  <tbody>\n",
       "    <tr>\n",
       "      <th>0</th>\n",
       "      <td>What is the purpose of feature engineering in machine learning?</td>\n",
       "      <td>Feature engineering involves selecting, transforming, or creating new features from the raw data to improve the performance of machine learning models by making them more expressive, informative, and suitable for the task at hand.</td>\n",
       "      <td>Correct</td>\n",
       "    </tr>\n",
       "    <tr>\n",
       "      <th>1</th>\n",
       "      <td>What is the purpose of feature engineering in machine learning?</td>\n",
       "      <td>Feature engineering aims to enhance the predictive power of machine learning models by transforming raw data into meaningful features that capture the underlying structure and relationships within the data, thus making the learning process more efficient and accurate.</td>\n",
       "      <td>Correct</td>\n",
       "    </tr>\n",
       "    <tr>\n",
       "      <th>2</th>\n",
       "      <td>What is the purpose of feature engineering in machine learning?</td>\n",
       "      <td>It involves creating new features from existing data to help machine learning models capture underlying patterns better, which in turn improves their ability to generalize and make accurate predictions on unseen data.</td>\n",
       "      <td>Correct</td>\n",
       "    </tr>\n",
       "    <tr>\n",
       "      <th>3</th>\n",
       "      <td>What is the purpose of feature engineering in machine learning?</td>\n",
       "      <td>The purpose is to improve model accuracy by selecting and transforming data features that are most relevant to the task, ensuring that the model focuses on the most informative aspects of the data while reducing the noise.</td>\n",
       "      <td>Correct</td>\n",
       "    </tr>\n",
       "    <tr>\n",
       "      <th>4</th>\n",
       "      <td>What is the purpose of feature engineering in machine learning?</td>\n",
       "      <td>Feature engineering helps in making data more suitable for machine learning algorithms by preprocessing and creating informative features that highlight important patterns and relationships within the data.</td>\n",
       "      <td>Correct</td>\n",
       "    </tr>\n",
       "  </tbody>\n",
       "</table>\n",
       "</div>"
      ],
      "text/plain": [
       "                                                          Question  \\\n",
       "0  What is the purpose of feature engineering in machine learning?   \n",
       "1  What is the purpose of feature engineering in machine learning?   \n",
       "2  What is the purpose of feature engineering in machine learning?   \n",
       "3  What is the purpose of feature engineering in machine learning?   \n",
       "4  What is the purpose of feature engineering in machine learning?   \n",
       "\n",
       "                                                                                                                                                                                                                                                                         Answer  \\\n",
       "0                                        Feature engineering involves selecting, transforming, or creating new features from the raw data to improve the performance of machine learning models by making them more expressive, informative, and suitable for the task at hand.   \n",
       "1  Feature engineering aims to enhance the predictive power of machine learning models by transforming raw data into meaningful features that capture the underlying structure and relationships within the data, thus making the learning process more efficient and accurate.   \n",
       "2                                                     It involves creating new features from existing data to help machine learning models capture underlying patterns better, which in turn improves their ability to generalize and make accurate predictions on unseen data.   \n",
       "3                                                The purpose is to improve model accuracy by selecting and transforming data features that are most relevant to the task, ensuring that the model focuses on the most informative aspects of the data while reducing the noise.   \n",
       "4                                                                Feature engineering helps in making data more suitable for machine learning algorithms by preprocessing and creating informative features that highlight important patterns and relationships within the data.   \n",
       "\n",
       "     Label  \n",
       "0  Correct  \n",
       "1  Correct  \n",
       "2  Correct  \n",
       "3  Correct  \n",
       "4  Correct  "
      ]
     },
     "execution_count": 45,
     "metadata": {},
     "output_type": "execute_result"
    }
   ],
   "source": [
    "data.head(5)"
   ]
  },
  {
   "cell_type": "code",
   "execution_count": 46,
   "metadata": {},
   "outputs": [],
   "source": [
    "data = data.sort_values(by=[\"Question\", \"Label\"])"
   ]
  },
  {
   "cell_type": "code",
   "execution_count": 47,
   "metadata": {},
   "outputs": [],
   "source": [
    "data.to_csv(\"data_science_all.csv\", index=False)"
   ]
  },
  {
   "cell_type": "code",
   "execution_count": 7,
   "metadata": {},
   "outputs": [
    {
     "data": {
      "text/html": [
       "<div>\n",
       "<style scoped>\n",
       "    .dataframe tbody tr th:only-of-type {\n",
       "        vertical-align: middle;\n",
       "    }\n",
       "\n",
       "    .dataframe tbody tr th {\n",
       "        vertical-align: top;\n",
       "    }\n",
       "\n",
       "    .dataframe thead th {\n",
       "        text-align: right;\n",
       "    }\n",
       "</style>\n",
       "<table border=\"1\" class=\"dataframe\">\n",
       "  <thead>\n",
       "    <tr style=\"text-align: right;\">\n",
       "      <th></th>\n",
       "      <th>messages</th>\n",
       "      <th>output_text</th>\n",
       "    </tr>\n",
       "  </thead>\n",
       "  <tbody>\n",
       "    <tr>\n",
       "      <th>232</th>\n",
       "      <td>A quesiton is asked during technical interview...</td>\n",
       "      <td>Your response highlights a key challenge of un...</td>\n",
       "    </tr>\n",
       "    <tr>\n",
       "      <th>1036</th>\n",
       "      <td>A quesiton is asked during technical interview...</td>\n",
       "      <td>You’ve correctly identified the issue of redun...</td>\n",
       "    </tr>\n",
       "    <tr>\n",
       "      <th>941</th>\n",
       "      <td>A quesiton is asked during technical interview...</td>\n",
       "      <td>This answer correctly identifies CNNs' design ...</td>\n",
       "    </tr>\n",
       "    <tr>\n",
       "      <th>1411</th>\n",
       "      <td>A quesiton is asked during technical interview...</td>\n",
       "      <td>Your answer correctly identifies exploitation ...</td>\n",
       "    </tr>\n",
       "    <tr>\n",
       "      <th>88</th>\n",
       "      <td>A quesiton is asked during technical interview...</td>\n",
       "      <td>Your response demonstrates a solid understandi...</td>\n",
       "    </tr>\n",
       "  </tbody>\n",
       "</table>\n",
       "</div>"
      ],
      "text/plain": [
       "                                               messages  \\\n",
       "232   A quesiton is asked during technical interview...   \n",
       "1036  A quesiton is asked during technical interview...   \n",
       "941   A quesiton is asked during technical interview...   \n",
       "1411  A quesiton is asked during technical interview...   \n",
       "88    A quesiton is asked during technical interview...   \n",
       "\n",
       "                                            output_text  \n",
       "232   Your response highlights a key challenge of un...  \n",
       "1036  You’ve correctly identified the issue of redun...  \n",
       "941   This answer correctly identifies CNNs' design ...  \n",
       "1411  Your answer correctly identifies exploitation ...  \n",
       "88    Your response demonstrates a solid understandi...  "
      ]
     },
     "execution_count": 7,
     "metadata": {},
     "output_type": "execute_result"
    }
   ],
   "source": [
    "import pandas as pd\n",
    "import json\n",
    "\n",
    "data = pd.read_csv(\"feedback_dataset.csv\")\n",
    "data  = data[data[\"Feedback\"].notnull()]\n",
    "\n",
    "data = data.sample(frac=1)\n",
    "# take first 500 rows\n",
    "# data = data.head(500)\n",
    "\n",
    "def generate_prompt(row):\n",
    "    template = f'''A quesiton is asked during technical interview and you need to provide constructive feedback on the answer\n",
    "The question: {row[\"Question\"]}\n",
    "The answer: {row[\"Answer\"]}\n",
    "The feedback: '''.strip()\n",
    "\n",
    "    return template\n",
    "\n",
    "data[\"messages\"] = data.apply(generate_prompt, axis=1)\n",
    "\n",
    "data.rename(columns={\"Feedback\": \"output_text\"}, inplace=True)\n",
    "\n",
    "data = data.drop(columns=[\"Label\"])\n",
    "data = data.reindex(columns=[\"messages\", \"output_text\"])\n",
    "\n",
    "data.head()"
   ]
  },
  {
   "cell_type": "code",
   "execution_count": 8,
   "metadata": {},
   "outputs": [],
   "source": [
    "with open('feedback_dataset.jsonl', 'w') as jsonl_file:\n",
    "    for _, row in data.iterrows():\n",
    "        jsonl_file.write(json.dumps(row.to_dict()) + '\\n')"
   ]
  },
  {
   "cell_type": "code",
   "execution_count": 2,
   "metadata": {},
   "outputs": [],
   "source": [
    "import pandas as pd"
   ]
  },
  {
   "cell_type": "code",
   "execution_count": 4,
   "metadata": {},
   "outputs": [],
   "source": [
    "data = pd.read_csv(\"data_science_questions.csv\")\n",
    "\n",
    "questions = data[[\"Question\", \"Topic\"]]\n",
    "\n",
    "questions = questions.drop_duplicates()\n",
    "\n",
    "questions[\"Job_Title\"] = \"Data Science\"\n",
    "\n",
    "questions['id'] = range(1, len(questions) + 1)\n",
    "\n",
    "questions.set_index('id', inplace=True)\n",
    "\n",
    "questions.to_csv(\"questions.csv\")"
   ]
  },
  {
   "cell_type": "code",
   "execution_count": 4,
   "metadata": {},
   "outputs": [
    {
     "name": "stdout",
     "output_type": "stream",
     "text": [
      "Sample Validation Data:\n",
      "   question_id                                           Question  \\\n",
      "0            1  What is the purpose of feature engineering in ...   \n",
      "1            1  What is the purpose of feature engineering in ...   \n",
      "2            1  What is the purpose of feature engineering in ...   \n",
      "3            1  What is the purpose of feature engineering in ...   \n",
      "4            1  What is the purpose of feature engineering in ...   \n",
      "5            1  What is the purpose of feature engineering in ...   \n",
      "6            1  What is the purpose of feature engineering in ...   \n",
      "7            1  What is the purpose of feature engineering in ...   \n",
      "8            1  What is the purpose of feature engineering in ...   \n",
      "9            1  What is the purpose of feature engineering in ...   \n",
      "\n",
      "                                              Answer  \n",
      "0  Feature engineering involves selecting, transf...  \n",
      "1  Feature engineering aims to enhance the predic...  \n",
      "2  It involves creating new features from existin...  \n",
      "3  The purpose is to improve model accuracy by se...  \n",
      "4  Feature engineering helps in making data more ...  \n",
      "5  By refining the input data, feature engineerin...  \n",
      "6  It seeks to improve the performance of models ...  \n",
      "7  The goal is to make data more expressive and i...  \n",
      "8  Feature engineering involves modifying data to...  \n",
      "9  It helps in extracting the most relevant infor...  \n",
      "\n",
      "No inconsistencies found. The question_id matches correctly with the Question.\n"
     ]
    }
   ],
   "source": [
    "questions_df = pd.read_csv('questions.csv')\n",
    "\n",
    "data_science_df = pd.read_csv('data_science_questions.csv')\n",
    "\n",
    "merged_df = pd.merge(questions_df, data_science_df, on='Question', how='inner')\n",
    "\n",
    "validation_df = merged_df[['id', 'Question', 'Answer']].rename(columns={'id': 'question_id'})\n",
    "\n",
    "print(\"Sample Validation Data:\")\n",
    "print(validation_df.head(10))\n",
    "\n",
    "inconsistencies = validation_df.merge(questions_df[['id', 'Question']], left_on='question_id', right_on='id', how='inner')\n",
    "\n",
    "inconsistencies_check = inconsistencies[inconsistencies['Question_x'] != inconsistencies['Question_y']]\n",
    "\n",
    "if not inconsistencies_check.empty:\n",
    "    print(\"\\nInconsistencies Found:\")\n",
    "    print(inconsistencies_check)\n",
    "else:\n",
    "    print(\"\\nNo inconsistencies found. The question_id matches correctly with the Question.\")\n"
   ]
  },
  {
   "cell_type": "code",
   "execution_count": 7,
   "metadata": {},
   "outputs": [],
   "source": [
    "merged_df.rename(columns={'id': 'question_id'}, inplace=True)"
   ]
  },
  {
   "cell_type": "code",
   "execution_count": 10,
   "metadata": {},
   "outputs": [],
   "source": [
    "merged_df[['question_id', 'Answer']].to_csv(\"answer_key.csv\", index=False)"
   ]
  }
 ],
 "metadata": {
  "kernelspec": {
   "display_name": "Python 3",
   "language": "python",
   "name": "python3"
  },
  "language_info": {
   "codemirror_mode": {
    "name": "ipython",
    "version": 3
   },
   "file_extension": ".py",
   "mimetype": "text/x-python",
   "name": "python",
   "nbconvert_exporter": "python",
   "pygments_lexer": "ipython3",
   "version": "3.7.6"
  }
 },
 "nbformat": 4,
 "nbformat_minor": 2
}
