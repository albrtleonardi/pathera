{
 "cells": [
  {
   "cell_type": "code",
   "execution_count": 1,
   "metadata": {},
   "outputs": [
    {
     "name": "stderr",
     "output_type": "stream",
     "text": [
      "c:\\Users\\Dilon\\AppData\\Local\\Programs\\Python\\Python37\\lib\\site-packages\\tqdm\\auto.py:21: TqdmWarning: IProgress not found. Please update jupyter and ipywidgets. See https://ipywidgets.readthedocs.io/en/stable/user_install.html\n",
      "  from .autonotebook import tqdm as notebook_tqdm\n"
     ]
    }
   ],
   "source": [
    "import re\n",
    "import pandas as pd\n",
    "import spacy\n",
    "from spacy.matcher import Matcher\n",
    "from spacy.pipeline import EntityRuler\n",
    "\n",
    "nlp = spacy.load(\"en_core_web_sm\")\n",
    "\n",
    "yoe_matcher = Matcher(nlp.vocab)\n",
    "degree_matcher = Matcher(nlp.vocab)\n",
    "\n",
    "yoe_patterns = [\n",
    "    # 2 years experience\n",
    "    [{\"LIKE_NUM\": True}, {\"LOWER\": {\"IN\": [\"year\", \"years\"]}}, {\"LOWER\": {\"IN\": [\"experience\", \"exp\"]}}],\n",
    "    # 2 years of experience\n",
    "    [{\"LIKE_NUM\": True}, {\"LOWER\": {\"IN\": [\"year\", \"years\"]}}, {\"LOWER\": \"of\"}, {\"LOWER\": {\"IN\": [\"experience\", \"exp\"]}}],\n",
    "    # 2 years work experience\n",
    "    [{\"LIKE_NUM\": True}, {\"LOWER\": {\"IN\": [\"year\", \"years\"]}}, {\"LOWER\": {\"IN\": [\"work\", \"working\", \"professional\"]}},{\"LOWER\": \"experience\"}],\n",
    "    # 2 years of work experience\n",
    "    [{\"LIKE_NUM\": True}, {\"LOWER\": {\"IN\": [\"year\", \"years\"]}}, {\"LOWER\": \"of\"}, {\"LOWER\": {\"IN\": [\"work\", \"working\", \"professional\"]}},{\"LOWER\": \"experience\"}],\n",
    "    # experience of 3 years\n",
    "    [{\"LOWER\": {\"IN\": [\"experience\", \"exp\"]}}, {\"LOWER\": {\"IN\": [\"of\", \"\"]}}, {\"LIKE_NUM\": True}, {\"LOWER\": {\"IN\": [\"year\", \"years\"]}}],\n",
    "    # 2 years as a developer / 2 years in a similar role\n",
    "    [{\"LIKE_NUM\": True}, {\"LOWER\": {\"IN\": [\"year\", \"years\"]}}, {\"LOWER\": {\"IN\": [\"as\", \"in\"]}}],\n",
    "    # 1-2 years experience\n",
    "    [{\"LIKE_NUM\": True}, {\"IS_SPACE\": True, \"OP\": \"*\"}, {\"LIKE_NUM\": True}, {\"LOWER\": {\"IN\": [\"year\", \"years\"]}}],\n",
    "    # 2 years of relevant\n",
    "    [{\"LIKE_NUM\": True}, {\"LOWER\": {\"IN\": [\"year\", \"years\"]}}, {\"LOWER\": \"of\"}, {\"LOWER\": \"relevant\"}],\n",
    "    # 2 years relevant \n",
    "    [{\"LIKE_NUM\": True}, {\"LOWER\": {\"IN\": [\"year\", \"years\"]}}, {\"LOWER\": \"relevant\"}],\n",
    "    # 2 years of hands on experience\n",
    "    [{\"LIKE_NUM\": True}, {\"LOWER\": {\"IN\": [\"year\", \"years\"]}}, {\"LOWER\": \"of\"}, {\"LOWER\": \"hands\"}, {\"LOWER\": \"on\"}, {\"LOWER\": \"experience\"}],\n",
    "    # 2 years hands on experience\n",
    "    [{\"LIKE_NUM\": True}, {\"LOWER\": {\"IN\": [\"year\", \"years\"]}}, {\"LOWER\": \"hands\"}, {\"LOWER\": \"on\"}, {\"LOWER\": \"experience\"}],\n",
    "]\n",
    "\n",
    "degree_patterns = [\n",
    "    [{\"LOWER\": {\"IN\": [\"bachelor\", \"bachelors\", \"undergraduate\"]}}],\n",
    "    [{\"LOWER\": \"master\"}, {\"LOWER\": {\"IN\": [\"'s\", \"s\"]}}],\n",
    "    [{\"LOWER\": \"mba\"}],\n",
    "    [{\"LOWER\": {\"IN\": [\"phd\", \"doctorate\"]}}],\n",
    "]\n",
    "\n",
    "for pattern in yoe_patterns:\n",
    "    yoe_matcher.add(\"YEARS_EXPERIENCE\", [pattern])\n",
    "\n",
    "for pattern in degree_patterns:\n",
    "    degree_matcher.add(\"DEGREE\", [pattern])\n",
    "\n",
    "text = '''\n",
    "Ciena is committed to our people-first philosophy. Our teams enjoy a culture focused on prioritizing a personalized and flexible work environment that empowers an individual’s passions, growth, wellbeing and belonging. We’re a technology company that leads with our humanity—driving our business priorities alongside meaningful social, community, and societal impact. Not ready to apply? Join our Talent Community to get relevant job alerts straight to your inbox. Responsibilities Full Account Level management responsibilities of the Services Project Management team responsible for the successful implementation of customer projects, with high complexity, within a Customer network. Ensure Service target margins are achieved, contributing to accurate revenue recognition, ensuring committed schedules and deliverables are met, and that projects meet Customer’s expectations for quality and service. Analyze project proposals to determine time frame, funding limitations and appropriate process for accomplishing projects. Identify and schedule project deliverables, milestones, and required activities and tasks. Provide leadership and motivation to project team members throughout the project life cycle and confer with project staff to outline work plan. Establish work plan and staffing for project activities, iterations or phases, and arrange for recruitment or assignment of project personnel. Implement project Communication plan. Document and communicate project status, obstacles and resolutions to management. Perform risk assessment and implement mitigation plans. Services Project Manager may support pre-sales activities, providing project management subject matter expertise and contributing to Customer proposals and RFP responses, as required. Interface across Ciena teams and Customer operations teams, Sales, Bid Management, Service Delivery Groups, and Finance to ensure project deliverables and financial targets are met. May be required to contribute to process management optimization efforts associated with project management Preferred Qualifications Critical Thinking / Analysis- Analyzes Multi-dimensional problems; gathers information over extended periods of time and applies complex concepts to generate possible solutions. Judgment - Makes Complex decisions/Judgment taking into account multiple alternatives. Decisiveness - Delivers decisions in the face of competing alternatives Outstanding planning, scheduling, and coordination skills Breadth of technology, Services and business acumen. Strong business judgment and ability to think through complex business issues. Works collaboratively in matrix environment, with many stakeholders Results oriented, Collaborator and Accountable Outstanding verbal and written communications. Must have proficiency with Project Management tools Minimum Qualifications Bachelor’s degree in Telecom/Computer Networking Engineering or related field More than three years working experience in project management Experience in managing project of Optical and/or Packet transport network is advantage PMP Certified is advantage Experience having worked in matrix organization that includes demonstrating strong influencing and collaborative skills across multiple teams Not ready to apply? Join our Talent Community to get relevant job alerts straight to your inbox. At Ciena, we are committed to building and fostering an environment in which our employees feel respected, valued, and heard. Ciena values the diversity of its workforce and respects its employees as individuals. We do not tolerate any form of discrimination. Ciena is an Equal Opportunity Employer, including disability and protected veteran status. If contacted in relation to a job opportunity, please advise Ciena of any accommodation measures you may require.\"\n",
    "'''"
   ]
  },
  {
   "cell_type": "code",
   "execution_count": 2,
   "metadata": {},
   "outputs": [
    {
     "name": "stdout",
     "output_type": "stream",
     "text": [
      "Years of Experience Found:\n",
      "three years working experience\n",
      "\n",
      "Date NER:\n",
      "\n",
      "DEGREE:\n",
      "bachelor\n"
     ]
    }
   ],
   "source": [
    "text = re.sub('[^A-Za-z0-9]+', ' ', text)\n",
    "text = text.lower()\n",
    "doc = nlp(text)\n",
    "\n",
    "yoe_matches = yoe_matcher(doc)\n",
    "yoe_found = False\n",
    "\n",
    "degree_matches = degree_matcher(doc)\n",
    "\n",
    "print('Years of Experience Found:')\n",
    "for match_id, start, end in yoe_matches:\n",
    "    span = doc[start:end]\n",
    "    print(span.text)\n",
    "\n",
    "print('\\nDate NER:')\n",
    "for ent in doc.ents:\n",
    "    if ent.label_ == \"DATE\" and re.search(r'\\b(\\d+)\\s+years?\\b', ent.text):\n",
    "        print(ent.text)\n",
    "    \n",
    "print(\"\\nDEGREE:\")\n",
    "for match_id, start, end in degree_matches:\n",
    "    span = doc[start:end]\n",
    "    print(span.text)"
   ]
  },
  {
   "cell_type": "code",
   "execution_count": 3,
   "metadata": {},
   "outputs": [
    {
     "name": "stdout",
     "output_type": "stream",
     "text": [
      "You have a 52.695% match with the job description\n",
      "{'matched_skill': 'cascading style sheets (css)', 'user_skill': 'back-end web development', 'similarity': 100}\n",
      "{'matched_skill': 'front-end development', 'user_skill': 'back-end web development', 'similarity': 75.9119987487793}\n",
      "{'matched_skill': 'html', 'user_skill': 'javascript', 'similarity': 54.000067710876465}\n",
      "{'matched_skill': 'javascript frameworks', 'user_skill': 'javascript', 'similarity': 62.70819902420044}\n",
      "{'matched_skill': 'mobile application development', 'user_skill': 'software development', 'similarity': 57.21094608306885}\n",
      "{'matched_skill': 'vue.js', 'user_skill': 'javascript', 'similarity': 41.346943378448486}\n",
      "{'matched_skill': 'web applications', 'user_skill': 'web development', 'similarity': 70.79660892486572}\n",
      "{'matched_skill': 'web architecture', 'user_skill': 'web development', 'similarity': 64.97543454170227}\n"
     ]
    }
   ],
   "source": [
    "from sentence_transformers import SentenceTransformer\n",
    "from sklearn.metrics.pairwise import cosine_similarity\n",
    "import numpy as np\n",
    "\n",
    "job_skills = \"Cascading Style Sheets (CSS),Front-End Development,HTML,JavaScript Frameworks,Laravel,Mobile Application Development,Vue.js,Web Applications,Doctrine (PHP),Web Architecture\"\n",
    "my_skills = \"Back-End Web Development,Cascading Style Sheets (CSS),JavaScript,Object-Oriented Programming (OOP),Software Development,Web Development,Databases,JSON,MongoDB,PostgreSQL\"\n",
    "\n",
    "job_skills = job_skills.lower().split(\",\")\n",
    "my_skills = my_skills.lower().split(\",\")\n",
    "\n",
    "job_skills = [skill.strip() for skill in job_skills]\n",
    "my_skills = [skill.strip() for skill in my_skills]\n",
    "\n",
    "model = SentenceTransformer(\"sentence-transformers/all-MiniLM-L6-v2\")\n",
    "# model = SentenceTransformer(\"all-mpnet-base-v2\")\n",
    "# model = SentenceTransformer('all-roberta-large-v1')\n",
    "score = 0\n",
    "sen = job_skills + my_skills\n",
    "sen_embeddings = model.encode(sen)\n",
    "job_embeddings = sen_embeddings[:len(job_skills)]\n",
    "my_embeddings = sen_embeddings[len(job_skills):]\n",
    "matches = []\n",
    "for i in range(len(job_skills)):\n",
    "    if job_skills[i] in my_skills:\n",
    "        score += 1\n",
    "        matches.append({\"matched_skill\": job_skills[i], \"user_skill\": my_skills[i], \"similarity\": 100})\n",
    "        continue\n",
    "    similarities = cosine_similarity([job_embeddings[i]], my_embeddings)[0]\n",
    "    max_similarity = max(similarities)\n",
    "    max_index = np.argmax(similarities)\n",
    "    if max_similarity > 0.4:\n",
    "        matches.append({\"matched_skill\": job_skills[i], \"user_skill\": my_skills[max_index], \"similarity\": max_similarity * 100})\n",
    "        score += max_similarity\n",
    "print(f'You have a {round(score/len(job_skills) * 100, 3)}% match with the job description')\n",
    "for i in matches:\n",
    "    print(i)    "
   ]
  },
  {
   "cell_type": "code",
   "execution_count": 25,
   "metadata": {},
   "outputs": [
    {
     "ename": "ValueError",
     "evalue": "All arrays must be of the same length",
     "output_type": "error",
     "traceback": [
      "\u001b[1;31m---------------------------------------------------------------------------\u001b[0m",
      "\u001b[1;31mValueError\u001b[0m                                Traceback (most recent call last)",
      "\u001b[1;32m~\\AppData\\Local\\Temp\\ipykernel_10100\\2895230051.py\u001b[0m in \u001b[0;36m<module>\u001b[1;34m\u001b[0m\n\u001b[0;32m     10\u001b[0m \u001b[1;33m\u001b[0m\u001b[0m\n\u001b[0;32m     11\u001b[0m \u001b[1;31m# Create DataFrame with match_id and JSON string\u001b[0m\u001b[1;33m\u001b[0m\u001b[1;33m\u001b[0m\u001b[1;33m\u001b[0m\u001b[0m\n\u001b[1;32m---> 12\u001b[1;33m \u001b[0mfinal_df\u001b[0m \u001b[1;33m=\u001b[0m \u001b[0mpd\u001b[0m\u001b[1;33m.\u001b[0m\u001b[0mDataFrame\u001b[0m\u001b[1;33m(\u001b[0m\u001b[1;33m{\u001b[0m\u001b[1;34m'match_id'\u001b[0m\u001b[1;33m:\u001b[0m \u001b[0mmatch_id\u001b[0m\u001b[1;33m,\u001b[0m \u001b[1;34m'skills'\u001b[0m\u001b[1;33m:\u001b[0m \u001b[1;33m[\u001b[0m\u001b[0mjson_data\u001b[0m\u001b[1;33m]\u001b[0m\u001b[1;33m}\u001b[0m\u001b[1;33m)\u001b[0m\u001b[1;33m\u001b[0m\u001b[1;33m\u001b[0m\u001b[0m\n\u001b[0m\u001b[0;32m     13\u001b[0m \u001b[1;33m\u001b[0m\u001b[0m\n\u001b[0;32m     14\u001b[0m \u001b[1;31m# Display the DataFrame\u001b[0m\u001b[1;33m\u001b[0m\u001b[1;33m\u001b[0m\u001b[1;33m\u001b[0m\u001b[0m\n",
      "\u001b[1;32mc:\\Users\\Dilon\\AppData\\Local\\Programs\\Python\\Python37\\lib\\site-packages\\pandas\\core\\frame.py\u001b[0m in \u001b[0;36m__init__\u001b[1;34m(self, data, index, columns, dtype, copy)\u001b[0m\n\u001b[0;32m    612\u001b[0m         \u001b[1;32melif\u001b[0m \u001b[0misinstance\u001b[0m\u001b[1;33m(\u001b[0m\u001b[0mdata\u001b[0m\u001b[1;33m,\u001b[0m \u001b[0mdict\u001b[0m\u001b[1;33m)\u001b[0m\u001b[1;33m:\u001b[0m\u001b[1;33m\u001b[0m\u001b[1;33m\u001b[0m\u001b[0m\n\u001b[0;32m    613\u001b[0m             \u001b[1;31m# GH#38939 de facto copy defaults to False only in non-dict cases\u001b[0m\u001b[1;33m\u001b[0m\u001b[1;33m\u001b[0m\u001b[1;33m\u001b[0m\u001b[0m\n\u001b[1;32m--> 614\u001b[1;33m             \u001b[0mmgr\u001b[0m \u001b[1;33m=\u001b[0m \u001b[0mdict_to_mgr\u001b[0m\u001b[1;33m(\u001b[0m\u001b[0mdata\u001b[0m\u001b[1;33m,\u001b[0m \u001b[0mindex\u001b[0m\u001b[1;33m,\u001b[0m \u001b[0mcolumns\u001b[0m\u001b[1;33m,\u001b[0m \u001b[0mdtype\u001b[0m\u001b[1;33m=\u001b[0m\u001b[0mdtype\u001b[0m\u001b[1;33m,\u001b[0m \u001b[0mcopy\u001b[0m\u001b[1;33m=\u001b[0m\u001b[0mcopy\u001b[0m\u001b[1;33m,\u001b[0m \u001b[0mtyp\u001b[0m\u001b[1;33m=\u001b[0m\u001b[0mmanager\u001b[0m\u001b[1;33m)\u001b[0m\u001b[1;33m\u001b[0m\u001b[1;33m\u001b[0m\u001b[0m\n\u001b[0m\u001b[0;32m    615\u001b[0m         \u001b[1;32melif\u001b[0m \u001b[0misinstance\u001b[0m\u001b[1;33m(\u001b[0m\u001b[0mdata\u001b[0m\u001b[1;33m,\u001b[0m \u001b[0mma\u001b[0m\u001b[1;33m.\u001b[0m\u001b[0mMaskedArray\u001b[0m\u001b[1;33m)\u001b[0m\u001b[1;33m:\u001b[0m\u001b[1;33m\u001b[0m\u001b[1;33m\u001b[0m\u001b[0m\n\u001b[0;32m    616\u001b[0m             \u001b[1;32mimport\u001b[0m \u001b[0mnumpy\u001b[0m\u001b[1;33m.\u001b[0m\u001b[0mma\u001b[0m\u001b[1;33m.\u001b[0m\u001b[0mmrecords\u001b[0m \u001b[1;32mas\u001b[0m \u001b[0mmrecords\u001b[0m\u001b[1;33m\u001b[0m\u001b[1;33m\u001b[0m\u001b[0m\n",
      "\u001b[1;32mc:\\Users\\Dilon\\AppData\\Local\\Programs\\Python\\Python37\\lib\\site-packages\\pandas\\core\\internals\\construction.py\u001b[0m in \u001b[0;36mdict_to_mgr\u001b[1;34m(data, index, columns, dtype, typ, copy)\u001b[0m\n\u001b[0;32m    463\u001b[0m \u001b[1;33m\u001b[0m\u001b[0m\n\u001b[0;32m    464\u001b[0m     return arrays_to_mgr(\n\u001b[1;32m--> 465\u001b[1;33m         \u001b[0marrays\u001b[0m\u001b[1;33m,\u001b[0m \u001b[0mdata_names\u001b[0m\u001b[1;33m,\u001b[0m \u001b[0mindex\u001b[0m\u001b[1;33m,\u001b[0m \u001b[0mcolumns\u001b[0m\u001b[1;33m,\u001b[0m \u001b[0mdtype\u001b[0m\u001b[1;33m=\u001b[0m\u001b[0mdtype\u001b[0m\u001b[1;33m,\u001b[0m \u001b[0mtyp\u001b[0m\u001b[1;33m=\u001b[0m\u001b[0mtyp\u001b[0m\u001b[1;33m,\u001b[0m \u001b[0mconsolidate\u001b[0m\u001b[1;33m=\u001b[0m\u001b[0mcopy\u001b[0m\u001b[1;33m\u001b[0m\u001b[1;33m\u001b[0m\u001b[0m\n\u001b[0m\u001b[0;32m    466\u001b[0m     )\n\u001b[0;32m    467\u001b[0m \u001b[1;33m\u001b[0m\u001b[0m\n",
      "\u001b[1;32mc:\\Users\\Dilon\\AppData\\Local\\Programs\\Python\\Python37\\lib\\site-packages\\pandas\\core\\internals\\construction.py\u001b[0m in \u001b[0;36marrays_to_mgr\u001b[1;34m(arrays, arr_names, index, columns, dtype, verify_integrity, typ, consolidate)\u001b[0m\n\u001b[0;32m    117\u001b[0m         \u001b[1;31m# figure out the index, if necessary\u001b[0m\u001b[1;33m\u001b[0m\u001b[1;33m\u001b[0m\u001b[1;33m\u001b[0m\u001b[0m\n\u001b[0;32m    118\u001b[0m         \u001b[1;32mif\u001b[0m \u001b[0mindex\u001b[0m \u001b[1;32mis\u001b[0m \u001b[1;32mNone\u001b[0m\u001b[1;33m:\u001b[0m\u001b[1;33m\u001b[0m\u001b[1;33m\u001b[0m\u001b[0m\n\u001b[1;32m--> 119\u001b[1;33m             \u001b[0mindex\u001b[0m \u001b[1;33m=\u001b[0m \u001b[0m_extract_index\u001b[0m\u001b[1;33m(\u001b[0m\u001b[0marrays\u001b[0m\u001b[1;33m)\u001b[0m\u001b[1;33m\u001b[0m\u001b[1;33m\u001b[0m\u001b[0m\n\u001b[0m\u001b[0;32m    120\u001b[0m         \u001b[1;32melse\u001b[0m\u001b[1;33m:\u001b[0m\u001b[1;33m\u001b[0m\u001b[1;33m\u001b[0m\u001b[0m\n\u001b[0;32m    121\u001b[0m             \u001b[0mindex\u001b[0m \u001b[1;33m=\u001b[0m \u001b[0mensure_index\u001b[0m\u001b[1;33m(\u001b[0m\u001b[0mindex\u001b[0m\u001b[1;33m)\u001b[0m\u001b[1;33m\u001b[0m\u001b[1;33m\u001b[0m\u001b[0m\n",
      "\u001b[1;32mc:\\Users\\Dilon\\AppData\\Local\\Programs\\Python\\Python37\\lib\\site-packages\\pandas\\core\\internals\\construction.py\u001b[0m in \u001b[0;36m_extract_index\u001b[1;34m(data)\u001b[0m\n\u001b[0;32m    633\u001b[0m             \u001b[0mlengths\u001b[0m \u001b[1;33m=\u001b[0m \u001b[0mlist\u001b[0m\u001b[1;33m(\u001b[0m\u001b[0mset\u001b[0m\u001b[1;33m(\u001b[0m\u001b[0mraw_lengths\u001b[0m\u001b[1;33m)\u001b[0m\u001b[1;33m)\u001b[0m\u001b[1;33m\u001b[0m\u001b[1;33m\u001b[0m\u001b[0m\n\u001b[0;32m    634\u001b[0m             \u001b[1;32mif\u001b[0m \u001b[0mlen\u001b[0m\u001b[1;33m(\u001b[0m\u001b[0mlengths\u001b[0m\u001b[1;33m)\u001b[0m \u001b[1;33m>\u001b[0m \u001b[1;36m1\u001b[0m\u001b[1;33m:\u001b[0m\u001b[1;33m\u001b[0m\u001b[1;33m\u001b[0m\u001b[0m\n\u001b[1;32m--> 635\u001b[1;33m                 \u001b[1;32mraise\u001b[0m \u001b[0mValueError\u001b[0m\u001b[1;33m(\u001b[0m\u001b[1;34m\"All arrays must be of the same length\"\u001b[0m\u001b[1;33m)\u001b[0m\u001b[1;33m\u001b[0m\u001b[1;33m\u001b[0m\u001b[0m\n\u001b[0m\u001b[0;32m    636\u001b[0m \u001b[1;33m\u001b[0m\u001b[0m\n\u001b[0;32m    637\u001b[0m             \u001b[1;32mif\u001b[0m \u001b[0mhave_dicts\u001b[0m\u001b[1;33m:\u001b[0m\u001b[1;33m\u001b[0m\u001b[1;33m\u001b[0m\u001b[0m\n",
      "\u001b[1;31mValueError\u001b[0m: All arrays must be of the same length"
     ]
    }
   ],
   "source": [
    "# Original data\n",
    "matches = [{'matched_skill': 'data structures', 'user_skill': 'data engineering', 'similarity': 58.722}, {'matched_skill': 'programming', 'user_skill': 'python', 'similarity': 61.316}, None]\n",
    "match_id = [1, 2]\n",
    "\n",
    "filtered_matches = [match for match in matches if match is not None]\n",
    "\n",
    "json_data = pd.DataFrame(filtered_matches).to_json(orient=\"records\")\n",
    "\n",
    "final_df = pd.DataFrame({'match_id': match_id, 'skills': [json_data]})\n",
    "\n",
    "print(final_df)\n"
   ]
  },
  {
   "cell_type": "code",
   "execution_count": 37,
   "metadata": {},
   "outputs": [
    {
     "name": "stdout",
     "output_type": "stream",
     "text": [
      "[{\"matched_skill\":\"computer science\",\"user_skill\":\"data science\",\"similarity\":71.507},{\"matched_skill\":\"data structures\",\"user_skill\":\"data engineering\",\"similarity\":58.722},{\"matched_skill\":\"programming\",\"user_skill\":\"python\",\"similarity\":61.316}]\n"
     ]
    }
   ],
   "source": [
    "match_ids = [1, 2]\n",
    "\n",
    "json_data = pd.DataFrame([{'matched_skill': 'computer science', 'user_skill': 'data science', 'similarity': 71.507}, {'matched_skill': 'data structures', 'user_skill': 'data engineering', 'similarity': 58.722}, {'matched_skill': 'programming', 'user_skill': 'python', 'similarity': 61.316}]).to_json(orient=\"records\")\n",
    "\n",
    "json_data2 = pd.DataFrame([{\"matched_skill\":\"data analysis\",\"user_skill\":\"data analysis\",\"similarity\":100}]).to_json(orient=\"records\")\n",
    "\n",
    "final_df = pd.DataFrame({'match_id': match_ids, 'skills': [json_data, json_data2]})\n",
    "print(final_df.iloc[0]['skills'])"
   ]
  },
  {
   "cell_type": "code",
   "execution_count": 4,
   "metadata": {},
   "outputs": [
    {
     "name": "stdout",
     "output_type": "stream",
     "text": [
      "[0.38538784 0.3254546  0.4138806 ]\n",
      "You have a 0.0% match with the job title\n"
     ]
    }
   ],
   "source": [
    "from sentence_transformers import SentenceTransformer\n",
    "from sklearn.metrics.pairwise import cosine_similarity\n",
    "import numpy as np\n",
    "\n",
    "job_titles = \"Business Development\"\n",
    "my_titles = \"Software Engineer,Fullstack Developer,Backend Engineer\"\n",
    "\n",
    "job_titles = job_titles.lower().split(\",\")\n",
    "my_titles = my_titles.lower().split(\",\")\n",
    "\n",
    "model = SentenceTransformer(\"all-mpnet-base-v2\")\n",
    "# model = SentenceTransformer('all-roberta-large-v1')\n",
    "score = 0\n",
    "sen = job_titles + my_titles\n",
    "sen_embeddings = model.encode(sen)\n",
    "job_embeddings = sen_embeddings[:len(job_titles)]\n",
    "my_embeddings = sen_embeddings[len(job_titles):]\n",
    "matches = []\n",
    "for i in range(len(job_titles)):\n",
    "    similarities = cosine_similarity([job_embeddings[i]], my_embeddings)[0]\n",
    "    print(similarities)\n",
    "    max_similarity = max(similarities)\n",
    "    max_index = np.argmax(similarities)\n",
    "    if max_similarity >= 0.5:\n",
    "        matches.append({\"Skill\": job_titles[i], \"Matched Skill\": my_titles[max_index], \"Similarity\": round(max_similarity * 100, 3)})\n",
    "        score += max_similarity\n",
    "print(f'You have a {round(score/len(job_titles) * 100, 3)}% match with the job title')\n",
    "for i in matches:\n",
    "    print(i)    "
   ]
  },
  {
   "cell_type": "code",
   "execution_count": 5,
   "metadata": {},
   "outputs": [],
   "source": [
    "import nltk\n",
    "import re\n",
    "from nltk.corpus import stopwords\n",
    "from nltk.tokenize import word_tokenize\n",
    "from nltk.stem import WordNetLemmatizer\n",
    "\n",
    "def preprocess_text(text):\n",
    "    text = text.lower()\n",
    "    tokens = word_tokenize(text)\n",
    "    tokens = [token for token in tokens if token.isalnum()]\n",
    "    stop_words = set(stopwords.words('english'))\n",
    "    tokens = [token for token in tokens if token not in stop_words]\n",
    "    lemmatizer = WordNetLemmatizer()\n",
    "    tokens = [lemmatizer.lemmatize(token) for token in tokens]\n",
    "    return ' '.join(tokens)"
   ]
  },
  {
   "cell_type": "code",
   "execution_count": 6,
   "metadata": {},
   "outputs": [
    {
     "ename": "KeyboardInterrupt",
     "evalue": "",
     "output_type": "error",
     "traceback": [
      "\u001b[1;31m---------------------------------------------------------------------------\u001b[0m",
      "\u001b[1;31mKeyboardInterrupt\u001b[0m                         Traceback (most recent call last)",
      "\u001b[1;32m~\\AppData\\Local\\Temp\\ipykernel_11824\\2831503479.py\u001b[0m in \u001b[0;36m<module>\u001b[1;34m\u001b[0m\n\u001b[0;32m     25\u001b[0m \u001b[1;32mfor\u001b[0m \u001b[0mi\u001b[0m \u001b[1;32min\u001b[0m \u001b[0mrange\u001b[0m\u001b[1;33m(\u001b[0m\u001b[1;36m0\u001b[0m\u001b[1;33m,\u001b[0m \u001b[0mlen\u001b[0m\u001b[1;33m(\u001b[0m\u001b[0mconcat\u001b[0m\u001b[1;33m)\u001b[0m\u001b[1;33m,\u001b[0m \u001b[0mbatch_size\u001b[0m\u001b[1;33m)\u001b[0m\u001b[1;33m:\u001b[0m\u001b[1;33m\u001b[0m\u001b[1;33m\u001b[0m\u001b[0m\n\u001b[0;32m     26\u001b[0m     \u001b[0mbatch\u001b[0m \u001b[1;33m=\u001b[0m \u001b[0mconcat\u001b[0m\u001b[1;33m[\u001b[0m\u001b[0mi\u001b[0m\u001b[1;33m:\u001b[0m\u001b[0mi\u001b[0m \u001b[1;33m+\u001b[0m \u001b[0mbatch_size\u001b[0m\u001b[1;33m]\u001b[0m\u001b[1;33m\u001b[0m\u001b[1;33m\u001b[0m\u001b[0m\n\u001b[1;32m---> 27\u001b[1;33m     \u001b[0membeddings\u001b[0m\u001b[1;33m.\u001b[0m\u001b[0mextend\u001b[0m\u001b[1;33m(\u001b[0m\u001b[0mmodel\u001b[0m\u001b[1;33m.\u001b[0m\u001b[0mencode\u001b[0m\u001b[1;33m(\u001b[0m\u001b[0mbatch\u001b[0m\u001b[1;33m,\u001b[0m \u001b[0mshow_progress_bar\u001b[0m\u001b[1;33m=\u001b[0m\u001b[1;32mFalse\u001b[0m\u001b[1;33m)\u001b[0m\u001b[1;33m)\u001b[0m\u001b[1;33m\u001b[0m\u001b[1;33m\u001b[0m\u001b[0m\n\u001b[0m\u001b[0;32m     28\u001b[0m \u001b[0membeddings\u001b[0m \u001b[1;33m=\u001b[0m \u001b[0mnp\u001b[0m\u001b[1;33m.\u001b[0m\u001b[0marray\u001b[0m\u001b[1;33m(\u001b[0m\u001b[0membeddings\u001b[0m\u001b[1;33m)\u001b[0m\u001b[1;33m\u001b[0m\u001b[1;33m\u001b[0m\u001b[0m\n\u001b[0;32m     29\u001b[0m \u001b[1;33m\u001b[0m\u001b[0m\n",
      "\u001b[1;32mc:\\Users\\Dilon\\AppData\\Local\\Programs\\Python\\Python37\\lib\\site-packages\\sentence_transformers\\SentenceTransformer.py\u001b[0m in \u001b[0;36mencode\u001b[1;34m(self, sentences, batch_size, show_progress_bar, output_value, convert_to_numpy, convert_to_tensor, device, normalize_embeddings)\u001b[0m\n\u001b[0;32m    163\u001b[0m \u001b[1;33m\u001b[0m\u001b[0m\n\u001b[0;32m    164\u001b[0m             \u001b[1;32mwith\u001b[0m \u001b[0mtorch\u001b[0m\u001b[1;33m.\u001b[0m\u001b[0mno_grad\u001b[0m\u001b[1;33m(\u001b[0m\u001b[1;33m)\u001b[0m\u001b[1;33m:\u001b[0m\u001b[1;33m\u001b[0m\u001b[1;33m\u001b[0m\u001b[0m\n\u001b[1;32m--> 165\u001b[1;33m                 \u001b[0mout_features\u001b[0m \u001b[1;33m=\u001b[0m \u001b[0mself\u001b[0m\u001b[1;33m.\u001b[0m\u001b[0mforward\u001b[0m\u001b[1;33m(\u001b[0m\u001b[0mfeatures\u001b[0m\u001b[1;33m)\u001b[0m\u001b[1;33m\u001b[0m\u001b[1;33m\u001b[0m\u001b[0m\n\u001b[0m\u001b[0;32m    166\u001b[0m \u001b[1;33m\u001b[0m\u001b[0m\n\u001b[0;32m    167\u001b[0m                 \u001b[1;32mif\u001b[0m \u001b[0moutput_value\u001b[0m \u001b[1;33m==\u001b[0m \u001b[1;34m'token_embeddings'\u001b[0m\u001b[1;33m:\u001b[0m\u001b[1;33m\u001b[0m\u001b[1;33m\u001b[0m\u001b[0m\n",
      "\u001b[1;32mc:\\Users\\Dilon\\AppData\\Local\\Programs\\Python\\Python37\\lib\\site-packages\\torch\\nn\\modules\\container.py\u001b[0m in \u001b[0;36mforward\u001b[1;34m(self, input)\u001b[0m\n\u001b[0;32m    202\u001b[0m     \u001b[1;32mdef\u001b[0m \u001b[0mforward\u001b[0m\u001b[1;33m(\u001b[0m\u001b[0mself\u001b[0m\u001b[1;33m,\u001b[0m \u001b[0minput\u001b[0m\u001b[1;33m)\u001b[0m\u001b[1;33m:\u001b[0m\u001b[1;33m\u001b[0m\u001b[1;33m\u001b[0m\u001b[0m\n\u001b[0;32m    203\u001b[0m         \u001b[1;32mfor\u001b[0m \u001b[0mmodule\u001b[0m \u001b[1;32min\u001b[0m \u001b[0mself\u001b[0m\u001b[1;33m:\u001b[0m\u001b[1;33m\u001b[0m\u001b[1;33m\u001b[0m\u001b[0m\n\u001b[1;32m--> 204\u001b[1;33m             \u001b[0minput\u001b[0m \u001b[1;33m=\u001b[0m \u001b[0mmodule\u001b[0m\u001b[1;33m(\u001b[0m\u001b[0minput\u001b[0m\u001b[1;33m)\u001b[0m\u001b[1;33m\u001b[0m\u001b[1;33m\u001b[0m\u001b[0m\n\u001b[0m\u001b[0;32m    205\u001b[0m         \u001b[1;32mreturn\u001b[0m \u001b[0minput\u001b[0m\u001b[1;33m\u001b[0m\u001b[1;33m\u001b[0m\u001b[0m\n\u001b[0;32m    206\u001b[0m \u001b[1;33m\u001b[0m\u001b[0m\n",
      "\u001b[1;32mc:\\Users\\Dilon\\AppData\\Local\\Programs\\Python\\Python37\\lib\\site-packages\\torch\\nn\\modules\\module.py\u001b[0m in \u001b[0;36m_call_impl\u001b[1;34m(self, *input, **kwargs)\u001b[0m\n\u001b[0;32m   1192\u001b[0m         if not (self._backward_hooks or self._forward_hooks or self._forward_pre_hooks or _global_backward_hooks\n\u001b[0;32m   1193\u001b[0m                 or _global_forward_hooks or _global_forward_pre_hooks):\n\u001b[1;32m-> 1194\u001b[1;33m             \u001b[1;32mreturn\u001b[0m \u001b[0mforward_call\u001b[0m\u001b[1;33m(\u001b[0m\u001b[1;33m*\u001b[0m\u001b[0minput\u001b[0m\u001b[1;33m,\u001b[0m \u001b[1;33m**\u001b[0m\u001b[0mkwargs\u001b[0m\u001b[1;33m)\u001b[0m\u001b[1;33m\u001b[0m\u001b[1;33m\u001b[0m\u001b[0m\n\u001b[0m\u001b[0;32m   1195\u001b[0m         \u001b[1;31m# Do not call functions when jit is used\u001b[0m\u001b[1;33m\u001b[0m\u001b[1;33m\u001b[0m\u001b[1;33m\u001b[0m\u001b[0m\n\u001b[0;32m   1196\u001b[0m         \u001b[0mfull_backward_hooks\u001b[0m\u001b[1;33m,\u001b[0m \u001b[0mnon_full_backward_hooks\u001b[0m \u001b[1;33m=\u001b[0m \u001b[1;33m[\u001b[0m\u001b[1;33m]\u001b[0m\u001b[1;33m,\u001b[0m \u001b[1;33m[\u001b[0m\u001b[1;33m]\u001b[0m\u001b[1;33m\u001b[0m\u001b[1;33m\u001b[0m\u001b[0m\n",
      "\u001b[1;32mc:\\Users\\Dilon\\AppData\\Local\\Programs\\Python\\Python37\\lib\\site-packages\\sentence_transformers\\models\\Transformer.py\u001b[0m in \u001b[0;36mforward\u001b[1;34m(self, features)\u001b[0m\n\u001b[0;32m     64\u001b[0m             \u001b[0mtrans_features\u001b[0m\u001b[1;33m[\u001b[0m\u001b[1;34m'token_type_ids'\u001b[0m\u001b[1;33m]\u001b[0m \u001b[1;33m=\u001b[0m \u001b[0mfeatures\u001b[0m\u001b[1;33m[\u001b[0m\u001b[1;34m'token_type_ids'\u001b[0m\u001b[1;33m]\u001b[0m\u001b[1;33m\u001b[0m\u001b[1;33m\u001b[0m\u001b[0m\n\u001b[0;32m     65\u001b[0m \u001b[1;33m\u001b[0m\u001b[0m\n\u001b[1;32m---> 66\u001b[1;33m         \u001b[0moutput_states\u001b[0m \u001b[1;33m=\u001b[0m \u001b[0mself\u001b[0m\u001b[1;33m.\u001b[0m\u001b[0mauto_model\u001b[0m\u001b[1;33m(\u001b[0m\u001b[1;33m**\u001b[0m\u001b[0mtrans_features\u001b[0m\u001b[1;33m,\u001b[0m \u001b[0mreturn_dict\u001b[0m\u001b[1;33m=\u001b[0m\u001b[1;32mFalse\u001b[0m\u001b[1;33m)\u001b[0m\u001b[1;33m\u001b[0m\u001b[1;33m\u001b[0m\u001b[0m\n\u001b[0m\u001b[0;32m     67\u001b[0m         \u001b[0moutput_tokens\u001b[0m \u001b[1;33m=\u001b[0m \u001b[0moutput_states\u001b[0m\u001b[1;33m[\u001b[0m\u001b[1;36m0\u001b[0m\u001b[1;33m]\u001b[0m\u001b[1;33m\u001b[0m\u001b[1;33m\u001b[0m\u001b[0m\n\u001b[0;32m     68\u001b[0m \u001b[1;33m\u001b[0m\u001b[0m\n",
      "\u001b[1;32mc:\\Users\\Dilon\\AppData\\Local\\Programs\\Python\\Python37\\lib\\site-packages\\torch\\nn\\modules\\module.py\u001b[0m in \u001b[0;36m_call_impl\u001b[1;34m(self, *input, **kwargs)\u001b[0m\n\u001b[0;32m   1192\u001b[0m         if not (self._backward_hooks or self._forward_hooks or self._forward_pre_hooks or _global_backward_hooks\n\u001b[0;32m   1193\u001b[0m                 or _global_forward_hooks or _global_forward_pre_hooks):\n\u001b[1;32m-> 1194\u001b[1;33m             \u001b[1;32mreturn\u001b[0m \u001b[0mforward_call\u001b[0m\u001b[1;33m(\u001b[0m\u001b[1;33m*\u001b[0m\u001b[0minput\u001b[0m\u001b[1;33m,\u001b[0m \u001b[1;33m**\u001b[0m\u001b[0mkwargs\u001b[0m\u001b[1;33m)\u001b[0m\u001b[1;33m\u001b[0m\u001b[1;33m\u001b[0m\u001b[0m\n\u001b[0m\u001b[0;32m   1195\u001b[0m         \u001b[1;31m# Do not call functions when jit is used\u001b[0m\u001b[1;33m\u001b[0m\u001b[1;33m\u001b[0m\u001b[1;33m\u001b[0m\u001b[0m\n\u001b[0;32m   1196\u001b[0m         \u001b[0mfull_backward_hooks\u001b[0m\u001b[1;33m,\u001b[0m \u001b[0mnon_full_backward_hooks\u001b[0m \u001b[1;33m=\u001b[0m \u001b[1;33m[\u001b[0m\u001b[1;33m]\u001b[0m\u001b[1;33m,\u001b[0m \u001b[1;33m[\u001b[0m\u001b[1;33m]\u001b[0m\u001b[1;33m\u001b[0m\u001b[1;33m\u001b[0m\u001b[0m\n",
      "\u001b[1;32mc:\\Users\\Dilon\\AppData\\Local\\Programs\\Python\\Python37\\lib\\site-packages\\transformers\\models\\roberta\\modeling_roberta.py\u001b[0m in \u001b[0;36mforward\u001b[1;34m(self, input_ids, attention_mask, token_type_ids, position_ids, head_mask, inputs_embeds, encoder_hidden_states, encoder_attention_mask, past_key_values, use_cache, output_attentions, output_hidden_states, return_dict)\u001b[0m\n\u001b[0;32m    860\u001b[0m             \u001b[0moutput_attentions\u001b[0m\u001b[1;33m=\u001b[0m\u001b[0moutput_attentions\u001b[0m\u001b[1;33m,\u001b[0m\u001b[1;33m\u001b[0m\u001b[1;33m\u001b[0m\u001b[0m\n\u001b[0;32m    861\u001b[0m             \u001b[0moutput_hidden_states\u001b[0m\u001b[1;33m=\u001b[0m\u001b[0moutput_hidden_states\u001b[0m\u001b[1;33m,\u001b[0m\u001b[1;33m\u001b[0m\u001b[1;33m\u001b[0m\u001b[0m\n\u001b[1;32m--> 862\u001b[1;33m             \u001b[0mreturn_dict\u001b[0m\u001b[1;33m=\u001b[0m\u001b[0mreturn_dict\u001b[0m\u001b[1;33m,\u001b[0m\u001b[1;33m\u001b[0m\u001b[1;33m\u001b[0m\u001b[0m\n\u001b[0m\u001b[0;32m    863\u001b[0m         )\n\u001b[0;32m    864\u001b[0m         \u001b[0msequence_output\u001b[0m \u001b[1;33m=\u001b[0m \u001b[0mencoder_outputs\u001b[0m\u001b[1;33m[\u001b[0m\u001b[1;36m0\u001b[0m\u001b[1;33m]\u001b[0m\u001b[1;33m\u001b[0m\u001b[1;33m\u001b[0m\u001b[0m\n",
      "\u001b[1;32mc:\\Users\\Dilon\\AppData\\Local\\Programs\\Python\\Python37\\lib\\site-packages\\torch\\nn\\modules\\module.py\u001b[0m in \u001b[0;36m_call_impl\u001b[1;34m(self, *input, **kwargs)\u001b[0m\n\u001b[0;32m   1192\u001b[0m         if not (self._backward_hooks or self._forward_hooks or self._forward_pre_hooks or _global_backward_hooks\n\u001b[0;32m   1193\u001b[0m                 or _global_forward_hooks or _global_forward_pre_hooks):\n\u001b[1;32m-> 1194\u001b[1;33m             \u001b[1;32mreturn\u001b[0m \u001b[0mforward_call\u001b[0m\u001b[1;33m(\u001b[0m\u001b[1;33m*\u001b[0m\u001b[0minput\u001b[0m\u001b[1;33m,\u001b[0m \u001b[1;33m**\u001b[0m\u001b[0mkwargs\u001b[0m\u001b[1;33m)\u001b[0m\u001b[1;33m\u001b[0m\u001b[1;33m\u001b[0m\u001b[0m\n\u001b[0m\u001b[0;32m   1195\u001b[0m         \u001b[1;31m# Do not call functions when jit is used\u001b[0m\u001b[1;33m\u001b[0m\u001b[1;33m\u001b[0m\u001b[1;33m\u001b[0m\u001b[0m\n\u001b[0;32m   1196\u001b[0m         \u001b[0mfull_backward_hooks\u001b[0m\u001b[1;33m,\u001b[0m \u001b[0mnon_full_backward_hooks\u001b[0m \u001b[1;33m=\u001b[0m \u001b[1;33m[\u001b[0m\u001b[1;33m]\u001b[0m\u001b[1;33m,\u001b[0m \u001b[1;33m[\u001b[0m\u001b[1;33m]\u001b[0m\u001b[1;33m\u001b[0m\u001b[1;33m\u001b[0m\u001b[0m\n",
      "\u001b[1;32mc:\\Users\\Dilon\\AppData\\Local\\Programs\\Python\\Python37\\lib\\site-packages\\transformers\\models\\roberta\\modeling_roberta.py\u001b[0m in \u001b[0;36mforward\u001b[1;34m(self, hidden_states, attention_mask, head_mask, encoder_hidden_states, encoder_attention_mask, past_key_values, use_cache, output_attentions, output_hidden_states, return_dict)\u001b[0m\n\u001b[0;32m    532\u001b[0m                     \u001b[0mencoder_attention_mask\u001b[0m\u001b[1;33m,\u001b[0m\u001b[1;33m\u001b[0m\u001b[1;33m\u001b[0m\u001b[0m\n\u001b[0;32m    533\u001b[0m                     \u001b[0mpast_key_value\u001b[0m\u001b[1;33m,\u001b[0m\u001b[1;33m\u001b[0m\u001b[1;33m\u001b[0m\u001b[0m\n\u001b[1;32m--> 534\u001b[1;33m                     \u001b[0moutput_attentions\u001b[0m\u001b[1;33m,\u001b[0m\u001b[1;33m\u001b[0m\u001b[1;33m\u001b[0m\u001b[0m\n\u001b[0m\u001b[0;32m    535\u001b[0m                 )\n\u001b[0;32m    536\u001b[0m \u001b[1;33m\u001b[0m\u001b[0m\n",
      "\u001b[1;32mc:\\Users\\Dilon\\AppData\\Local\\Programs\\Python\\Python37\\lib\\site-packages\\torch\\nn\\modules\\module.py\u001b[0m in \u001b[0;36m_call_impl\u001b[1;34m(self, *input, **kwargs)\u001b[0m\n\u001b[0;32m   1192\u001b[0m         if not (self._backward_hooks or self._forward_hooks or self._forward_pre_hooks or _global_backward_hooks\n\u001b[0;32m   1193\u001b[0m                 or _global_forward_hooks or _global_forward_pre_hooks):\n\u001b[1;32m-> 1194\u001b[1;33m             \u001b[1;32mreturn\u001b[0m \u001b[0mforward_call\u001b[0m\u001b[1;33m(\u001b[0m\u001b[1;33m*\u001b[0m\u001b[0minput\u001b[0m\u001b[1;33m,\u001b[0m \u001b[1;33m**\u001b[0m\u001b[0mkwargs\u001b[0m\u001b[1;33m)\u001b[0m\u001b[1;33m\u001b[0m\u001b[1;33m\u001b[0m\u001b[0m\n\u001b[0m\u001b[0;32m   1195\u001b[0m         \u001b[1;31m# Do not call functions when jit is used\u001b[0m\u001b[1;33m\u001b[0m\u001b[1;33m\u001b[0m\u001b[1;33m\u001b[0m\u001b[0m\n\u001b[0;32m   1196\u001b[0m         \u001b[0mfull_backward_hooks\u001b[0m\u001b[1;33m,\u001b[0m \u001b[0mnon_full_backward_hooks\u001b[0m \u001b[1;33m=\u001b[0m \u001b[1;33m[\u001b[0m\u001b[1;33m]\u001b[0m\u001b[1;33m,\u001b[0m \u001b[1;33m[\u001b[0m\u001b[1;33m]\u001b[0m\u001b[1;33m\u001b[0m\u001b[1;33m\u001b[0m\u001b[0m\n",
      "\u001b[1;32mc:\\Users\\Dilon\\AppData\\Local\\Programs\\Python\\Python37\\lib\\site-packages\\transformers\\models\\roberta\\modeling_roberta.py\u001b[0m in \u001b[0;36mforward\u001b[1;34m(self, hidden_states, attention_mask, head_mask, encoder_hidden_states, encoder_attention_mask, past_key_value, output_attentions)\u001b[0m\n\u001b[0;32m    452\u001b[0m \u001b[1;33m\u001b[0m\u001b[0m\n\u001b[0;32m    453\u001b[0m         layer_output = apply_chunking_to_forward(\n\u001b[1;32m--> 454\u001b[1;33m             \u001b[0mself\u001b[0m\u001b[1;33m.\u001b[0m\u001b[0mfeed_forward_chunk\u001b[0m\u001b[1;33m,\u001b[0m \u001b[0mself\u001b[0m\u001b[1;33m.\u001b[0m\u001b[0mchunk_size_feed_forward\u001b[0m\u001b[1;33m,\u001b[0m \u001b[0mself\u001b[0m\u001b[1;33m.\u001b[0m\u001b[0mseq_len_dim\u001b[0m\u001b[1;33m,\u001b[0m \u001b[0mattention_output\u001b[0m\u001b[1;33m\u001b[0m\u001b[1;33m\u001b[0m\u001b[0m\n\u001b[0m\u001b[0;32m    455\u001b[0m         )\n\u001b[0;32m    456\u001b[0m         \u001b[0moutputs\u001b[0m \u001b[1;33m=\u001b[0m \u001b[1;33m(\u001b[0m\u001b[0mlayer_output\u001b[0m\u001b[1;33m,\u001b[0m\u001b[1;33m)\u001b[0m \u001b[1;33m+\u001b[0m \u001b[0moutputs\u001b[0m\u001b[1;33m\u001b[0m\u001b[1;33m\u001b[0m\u001b[0m\n",
      "\u001b[1;32mc:\\Users\\Dilon\\AppData\\Local\\Programs\\Python\\Python37\\lib\\site-packages\\transformers\\pytorch_utils.py\u001b[0m in \u001b[0;36mapply_chunking_to_forward\u001b[1;34m(forward_fn, chunk_size, chunk_dim, *input_tensors)\u001b[0m\n\u001b[0;32m    235\u001b[0m         \u001b[1;32mreturn\u001b[0m \u001b[0mtorch\u001b[0m\u001b[1;33m.\u001b[0m\u001b[0mcat\u001b[0m\u001b[1;33m(\u001b[0m\u001b[0moutput_chunks\u001b[0m\u001b[1;33m,\u001b[0m \u001b[0mdim\u001b[0m\u001b[1;33m=\u001b[0m\u001b[0mchunk_dim\u001b[0m\u001b[1;33m)\u001b[0m\u001b[1;33m\u001b[0m\u001b[1;33m\u001b[0m\u001b[0m\n\u001b[0;32m    236\u001b[0m \u001b[1;33m\u001b[0m\u001b[0m\n\u001b[1;32m--> 237\u001b[1;33m     \u001b[1;32mreturn\u001b[0m \u001b[0mforward_fn\u001b[0m\u001b[1;33m(\u001b[0m\u001b[1;33m*\u001b[0m\u001b[0minput_tensors\u001b[0m\u001b[1;33m)\u001b[0m\u001b[1;33m\u001b[0m\u001b[1;33m\u001b[0m\u001b[0m\n\u001b[0m\u001b[0;32m    238\u001b[0m \u001b[1;33m\u001b[0m\u001b[0m\n\u001b[0;32m    239\u001b[0m \u001b[1;33m\u001b[0m\u001b[0m\n",
      "\u001b[1;32mc:\\Users\\Dilon\\AppData\\Local\\Programs\\Python\\Python37\\lib\\site-packages\\transformers\\models\\roberta\\modeling_roberta.py\u001b[0m in \u001b[0;36mfeed_forward_chunk\u001b[1;34m(self, attention_output)\u001b[0m\n\u001b[0;32m    463\u001b[0m \u001b[1;33m\u001b[0m\u001b[0m\n\u001b[0;32m    464\u001b[0m     \u001b[1;32mdef\u001b[0m \u001b[0mfeed_forward_chunk\u001b[0m\u001b[1;33m(\u001b[0m\u001b[0mself\u001b[0m\u001b[1;33m,\u001b[0m \u001b[0mattention_output\u001b[0m\u001b[1;33m)\u001b[0m\u001b[1;33m:\u001b[0m\u001b[1;33m\u001b[0m\u001b[1;33m\u001b[0m\u001b[0m\n\u001b[1;32m--> 465\u001b[1;33m         \u001b[0mintermediate_output\u001b[0m \u001b[1;33m=\u001b[0m \u001b[0mself\u001b[0m\u001b[1;33m.\u001b[0m\u001b[0mintermediate\u001b[0m\u001b[1;33m(\u001b[0m\u001b[0mattention_output\u001b[0m\u001b[1;33m)\u001b[0m\u001b[1;33m\u001b[0m\u001b[1;33m\u001b[0m\u001b[0m\n\u001b[0m\u001b[0;32m    466\u001b[0m         \u001b[0mlayer_output\u001b[0m \u001b[1;33m=\u001b[0m \u001b[0mself\u001b[0m\u001b[1;33m.\u001b[0m\u001b[0moutput\u001b[0m\u001b[1;33m(\u001b[0m\u001b[0mintermediate_output\u001b[0m\u001b[1;33m,\u001b[0m \u001b[0mattention_output\u001b[0m\u001b[1;33m)\u001b[0m\u001b[1;33m\u001b[0m\u001b[1;33m\u001b[0m\u001b[0m\n\u001b[0;32m    467\u001b[0m         \u001b[1;32mreturn\u001b[0m \u001b[0mlayer_output\u001b[0m\u001b[1;33m\u001b[0m\u001b[1;33m\u001b[0m\u001b[0m\n",
      "\u001b[1;32mc:\\Users\\Dilon\\AppData\\Local\\Programs\\Python\\Python37\\lib\\site-packages\\torch\\nn\\modules\\module.py\u001b[0m in \u001b[0;36m_call_impl\u001b[1;34m(self, *input, **kwargs)\u001b[0m\n\u001b[0;32m   1192\u001b[0m         if not (self._backward_hooks or self._forward_hooks or self._forward_pre_hooks or _global_backward_hooks\n\u001b[0;32m   1193\u001b[0m                 or _global_forward_hooks or _global_forward_pre_hooks):\n\u001b[1;32m-> 1194\u001b[1;33m             \u001b[1;32mreturn\u001b[0m \u001b[0mforward_call\u001b[0m\u001b[1;33m(\u001b[0m\u001b[1;33m*\u001b[0m\u001b[0minput\u001b[0m\u001b[1;33m,\u001b[0m \u001b[1;33m**\u001b[0m\u001b[0mkwargs\u001b[0m\u001b[1;33m)\u001b[0m\u001b[1;33m\u001b[0m\u001b[1;33m\u001b[0m\u001b[0m\n\u001b[0m\u001b[0;32m   1195\u001b[0m         \u001b[1;31m# Do not call functions when jit is used\u001b[0m\u001b[1;33m\u001b[0m\u001b[1;33m\u001b[0m\u001b[1;33m\u001b[0m\u001b[0m\n\u001b[0;32m   1196\u001b[0m         \u001b[0mfull_backward_hooks\u001b[0m\u001b[1;33m,\u001b[0m \u001b[0mnon_full_backward_hooks\u001b[0m \u001b[1;33m=\u001b[0m \u001b[1;33m[\u001b[0m\u001b[1;33m]\u001b[0m\u001b[1;33m,\u001b[0m \u001b[1;33m[\u001b[0m\u001b[1;33m]\u001b[0m\u001b[1;33m\u001b[0m\u001b[1;33m\u001b[0m\u001b[0m\n",
      "\u001b[1;32mc:\\Users\\Dilon\\AppData\\Local\\Programs\\Python\\Python37\\lib\\site-packages\\transformers\\models\\roberta\\modeling_roberta.py\u001b[0m in \u001b[0;36mforward\u001b[1;34m(self, hidden_states)\u001b[0m\n\u001b[0;32m    361\u001b[0m \u001b[1;33m\u001b[0m\u001b[0m\n\u001b[0;32m    362\u001b[0m     \u001b[1;32mdef\u001b[0m \u001b[0mforward\u001b[0m\u001b[1;33m(\u001b[0m\u001b[0mself\u001b[0m\u001b[1;33m,\u001b[0m \u001b[0mhidden_states\u001b[0m\u001b[1;33m:\u001b[0m \u001b[0mtorch\u001b[0m\u001b[1;33m.\u001b[0m\u001b[0mTensor\u001b[0m\u001b[1;33m)\u001b[0m \u001b[1;33m->\u001b[0m \u001b[0mtorch\u001b[0m\u001b[1;33m.\u001b[0m\u001b[0mTensor\u001b[0m\u001b[1;33m:\u001b[0m\u001b[1;33m\u001b[0m\u001b[1;33m\u001b[0m\u001b[0m\n\u001b[1;32m--> 363\u001b[1;33m         \u001b[0mhidden_states\u001b[0m \u001b[1;33m=\u001b[0m \u001b[0mself\u001b[0m\u001b[1;33m.\u001b[0m\u001b[0mdense\u001b[0m\u001b[1;33m(\u001b[0m\u001b[0mhidden_states\u001b[0m\u001b[1;33m)\u001b[0m\u001b[1;33m\u001b[0m\u001b[1;33m\u001b[0m\u001b[0m\n\u001b[0m\u001b[0;32m    364\u001b[0m         \u001b[0mhidden_states\u001b[0m \u001b[1;33m=\u001b[0m \u001b[0mself\u001b[0m\u001b[1;33m.\u001b[0m\u001b[0mintermediate_act_fn\u001b[0m\u001b[1;33m(\u001b[0m\u001b[0mhidden_states\u001b[0m\u001b[1;33m)\u001b[0m\u001b[1;33m\u001b[0m\u001b[1;33m\u001b[0m\u001b[0m\n\u001b[0;32m    365\u001b[0m         \u001b[1;32mreturn\u001b[0m \u001b[0mhidden_states\u001b[0m\u001b[1;33m\u001b[0m\u001b[1;33m\u001b[0m\u001b[0m\n",
      "\u001b[1;32mc:\\Users\\Dilon\\AppData\\Local\\Programs\\Python\\Python37\\lib\\site-packages\\torch\\nn\\modules\\module.py\u001b[0m in \u001b[0;36m_call_impl\u001b[1;34m(self, *input, **kwargs)\u001b[0m\n\u001b[0;32m   1192\u001b[0m         if not (self._backward_hooks or self._forward_hooks or self._forward_pre_hooks or _global_backward_hooks\n\u001b[0;32m   1193\u001b[0m                 or _global_forward_hooks or _global_forward_pre_hooks):\n\u001b[1;32m-> 1194\u001b[1;33m             \u001b[1;32mreturn\u001b[0m \u001b[0mforward_call\u001b[0m\u001b[1;33m(\u001b[0m\u001b[1;33m*\u001b[0m\u001b[0minput\u001b[0m\u001b[1;33m,\u001b[0m \u001b[1;33m**\u001b[0m\u001b[0mkwargs\u001b[0m\u001b[1;33m)\u001b[0m\u001b[1;33m\u001b[0m\u001b[1;33m\u001b[0m\u001b[0m\n\u001b[0m\u001b[0;32m   1195\u001b[0m         \u001b[1;31m# Do not call functions when jit is used\u001b[0m\u001b[1;33m\u001b[0m\u001b[1;33m\u001b[0m\u001b[1;33m\u001b[0m\u001b[0m\n\u001b[0;32m   1196\u001b[0m         \u001b[0mfull_backward_hooks\u001b[0m\u001b[1;33m,\u001b[0m \u001b[0mnon_full_backward_hooks\u001b[0m \u001b[1;33m=\u001b[0m \u001b[1;33m[\u001b[0m\u001b[1;33m]\u001b[0m\u001b[1;33m,\u001b[0m \u001b[1;33m[\u001b[0m\u001b[1;33m]\u001b[0m\u001b[1;33m\u001b[0m\u001b[1;33m\u001b[0m\u001b[0m\n",
      "\u001b[1;32mc:\\Users\\Dilon\\AppData\\Local\\Programs\\Python\\Python37\\lib\\site-packages\\torch\\nn\\modules\\linear.py\u001b[0m in \u001b[0;36mforward\u001b[1;34m(self, input)\u001b[0m\n\u001b[0;32m    112\u001b[0m \u001b[1;33m\u001b[0m\u001b[0m\n\u001b[0;32m    113\u001b[0m     \u001b[1;32mdef\u001b[0m \u001b[0mforward\u001b[0m\u001b[1;33m(\u001b[0m\u001b[0mself\u001b[0m\u001b[1;33m,\u001b[0m \u001b[0minput\u001b[0m\u001b[1;33m:\u001b[0m \u001b[0mTensor\u001b[0m\u001b[1;33m)\u001b[0m \u001b[1;33m->\u001b[0m \u001b[0mTensor\u001b[0m\u001b[1;33m:\u001b[0m\u001b[1;33m\u001b[0m\u001b[1;33m\u001b[0m\u001b[0m\n\u001b[1;32m--> 114\u001b[1;33m         \u001b[1;32mreturn\u001b[0m \u001b[0mF\u001b[0m\u001b[1;33m.\u001b[0m\u001b[0mlinear\u001b[0m\u001b[1;33m(\u001b[0m\u001b[0minput\u001b[0m\u001b[1;33m,\u001b[0m \u001b[0mself\u001b[0m\u001b[1;33m.\u001b[0m\u001b[0mweight\u001b[0m\u001b[1;33m,\u001b[0m \u001b[0mself\u001b[0m\u001b[1;33m.\u001b[0m\u001b[0mbias\u001b[0m\u001b[1;33m)\u001b[0m\u001b[1;33m\u001b[0m\u001b[1;33m\u001b[0m\u001b[0m\n\u001b[0m\u001b[0;32m    115\u001b[0m \u001b[1;33m\u001b[0m\u001b[0m\n\u001b[0;32m    116\u001b[0m     \u001b[1;32mdef\u001b[0m \u001b[0mextra_repr\u001b[0m\u001b[1;33m(\u001b[0m\u001b[0mself\u001b[0m\u001b[1;33m)\u001b[0m \u001b[1;33m->\u001b[0m \u001b[0mstr\u001b[0m\u001b[1;33m:\u001b[0m\u001b[1;33m\u001b[0m\u001b[1;33m\u001b[0m\u001b[0m\n",
      "\u001b[1;31mKeyboardInterrupt\u001b[0m: "
     ]
    }
   ],
   "source": [
    "import numpy as np\n",
    "from sentence_transformers import SentenceTransformer\n",
    "from sklearn.metrics.pairwise import cosine_similarity\n",
    "\n",
    "text =''' \n",
    "Company Description About Grab and our workplace Grab is Southeast Asia’s leading superapp. We are dedicated to improving the lives of millions of users across the region by providing them everyday services such as deliveries, mobility, financial services, enterprise services and others. More than that, we provide the opportunity for them to have a better life. And that aspiration starts inside Grab because we believe in a seamless blend of work and home life, making every aspect of life better for all. Guided by The Grab Way, which spells out our mission, how we believe we can achieve it, and our operating principles—the 4Hs: Heart, Hunger, Honour and Humility—we work to create economic empowerment for the people of Southeast Asia. With our unwavering commitment to our values, we believe that we're more than a service provider; we're agents of positive change. Job Description Get to know Merchant Experience Tech Family At Business Platform our goal is to make merchants happy, and help them thrive in their business. We support all businesses, between tiny merchants (like a warung or hawker) and big, international franchises. Merchants have a lot of different businesses: restaurants, supermarkets, fashion, online stores, people who sell on social media, and many more. We level the playing field between tiny merchants and big merchants by giving them the same tools to grow their business, to attract customers, to become more efficient and be able to concentrate on what they do best inside one GrabMerchant Super App and Portal. If you go to a restaurant, chances are high you have seen some of the products of our team already. We have millions of very different merchant end-users who earn money in Southeast Asia that use our tools: cashiers, store owners, managers, merchant back office for marketing, and reporting. Stability, quality and innovation to engage more customers are the most important qualities for them running their business. Our tools collect and analyze billions of transactions every month that lead to merchant insights on how they can improve their business. We are a distributed team with two thirds in Indonesia, and third in Singapore. Our communication is in English, both in spoken and written form. Our team has direct end-user contact, and impact on the bottom line for merchants and thus, Grab Get to know the role We are seeking talented & passionate Engineers to join our team, you will have opportunities to work on multiple backend services as well as participating in merchant immersions, talking directly to the end-users, identifying their challenges and how we can help them in their work life. It is very important that our team members take initiatives to identify problems, and have the right mindset and skill sets to solve them. The Day-to-Day Activities You use technology to solve well defined problems, building individual components or features based on well defined tasks. You understand the requirements of your projects and use that understanding in your designs. You understand your codebase and systems, ensuring reliability through design reviews, monitoring, alerting, and applying OE (Operational Excellence) standards. You take ownership of your code and ensure it’s readable, maintainable, and well-tested. You understand and apply the appropriate data structures and algorithms. You give clear, actionable feedback during code reviews and respond well to feedback from others. You respond promptly to issues and keep the working team constantly updated. Your tasks are delivered on time and with high quality, and you’re able to explain your solutions to other technical stakeholders through both verbal and written communication. Qualifications The Must-Haves You can write clean code in any language (C++, C, Java, Scala, Rust, Haskell, OCaml, Erlang, Python, Ruby, PHP, Node.JS, C#, etc.), and are willing to learn Golang Ability to write functionally correct, modular, readable and maintainable code Awareness of basic security concepts Understanding of common data structures and common algorithms A good understanding of the clean architecture principles\n",
    "'''\n",
    "\n",
    "job_experience = [text]\n",
    "\n",
    "my_experience = [\"2 years as Data Scientist at PT. XYZ Indonesia\", \"Worked on various projects using Python\", \"Developed machine learning models using scikit-learn\", \"Used deep learning for image classification\", \"Created data pipelines for data processing\", \"Used Self Supervised Learning for text encoding\"]\n",
    "\n",
    "# summary = summarizer(text[:1024], max_length=250, min_length=50, do_sample=False)\n",
    "# job_experience[0] = summary[0]['summary_text']\n",
    "# print(job_experience)\n",
    "\n",
    "# job_experience = [preprocess_text(exp) for exp in job_experience]\n",
    "# my_experience = [preprocess_text(exp) for exp in my_experience]\n",
    "\n",
    "model = SentenceTransformer(\"all-roberta-large-v1\")\n",
    "concat = job_experience + my_experience\n",
    "\n",
    "embeddings = []\n",
    "batch_size = 32\n",
    "for i in range(0, len(concat), batch_size):\n",
    "    batch = concat[i:i + batch_size]\n",
    "    embeddings.extend(model.encode(batch, show_progress_bar=False))\n",
    "embeddings = np.array(embeddings)\n",
    "\n",
    "job_embeddings = embeddings[:len(job_experience)]\n",
    "user_embeddings = embeddings[len(job_experience):]\n",
    "\n",
    "similarities = cosine_similarity(user_embeddings, job_embeddings)\n",
    "\n",
    "score = np.mean(np.max(similarities, axis=1))\n",
    "matches = []\n",
    "for i in range(len(my_experience)):\n",
    "    best_match_idx = np.argmax(similarities[i])\n",
    "    best_similarity = similarities[i][best_match_idx]\n",
    "    matches.append({\"Experience\": my_experience[i], \"Similarity\": best_similarity * 100})\n",
    "print(f'You have a {round(score * 100, 3)}% match with the job description')\n",
    "print(matches)"
   ]
  },
  {
   "cell_type": "code",
   "execution_count": null,
   "metadata": {},
   "outputs": [],
   "source": [
    "import json\n",
    "from datasets import load_dataset\n",
    "from sentence_transformers import SentenceTransformer, SentencesDataset, models, InputExample, losses\n",
    "from torch.utils.data import DataLoader\n",
    "\n",
    "with open('about.json') as f:\n",
    "    json_data = json.load(f)\n",
    "\n",
    "data = []\n",
    "\n",
    "model = SentenceTransformer('all-roberta-large-v1')\n",
    "\n",
    "for item in json_data:\n",
    "    anchor = item['anchor']\n",
    "    positive = item['positive']\n",
    "    negatives = item['negatives']\n",
    "    \n",
    "    data.append(InputExample(texts=[anchor, positive], label=1))\n",
    "    \n",
    "    for negative in negatives:\n",
    "        data.append(InputExample(texts=[anchor, negative], label=0))"
   ]
  },
  {
   "cell_type": "code",
   "execution_count": null,
   "metadata": {},
   "outputs": [
    {
     "name": "stderr",
     "output_type": "stream",
     "text": [
      "Epoch:   0%|          | 0/1 [00:00<?, ?it/s]"
     ]
    },
    {
     "name": "stderr",
     "output_type": "stream",
     "text": [
      "Iteration: 100%|██████████| 3/3 [00:45<00:00, 15.22s/it]\n",
      "Epoch: 100%|██████████| 1/1 [00:45<00:00, 45.70s/it]\n"
     ]
    }
   ],
   "source": [
    "train_dataset = SentencesDataset(data, model)\n",
    "train_dataloader = DataLoader(train_dataset, shuffle=True, batch_size=16)\n",
    "train_loss = losses.ContrastiveLoss(model)\n",
    "model.fit(train_objectives=[(train_dataloader, train_loss)],\n",
    "          epochs=1,\n",
    "          warmup_steps=10,  \n",
    "          output_path='output/trained_model')"
   ]
  },
  {
   "cell_type": "code",
   "execution_count": null,
   "metadata": {},
   "outputs": [],
   "source": [
    "model = SentenceTransformer('output/trained_model')"
   ]
  },
  {
   "cell_type": "code",
   "execution_count": null,
   "metadata": {},
   "outputs": [
    {
     "name": "stdout",
     "output_type": "stream",
     "text": [
      "Cosine Similarity: 0.4986788332462311\n"
     ]
    }
   ],
   "source": [
    "from sklearn.metrics.pairwise import cosine_similarity\n",
    "import numpy as np\n",
    "\n",
    "sentence1 = \"Experience in project management and team leadership.\"\n",
    "sentence2 = \"Leader of an organization that manages Technologies\"\n",
    "\n",
    "embedding1 = model.encode([sentence1])[0]\n",
    "embedding2 = model.encode([sentence2])[0]\n",
    "\n",
    "similarity = cosine_similarity([embedding1], [embedding2])[0][0]\n",
    "print(f\"Cosine Similarity: {similarity}\")"
   ]
  },
  {
   "cell_type": "code",
   "execution_count": 35,
   "metadata": {},
   "outputs": [
    {
     "data": {
      "text/plain": [
       "1"
      ]
     },
     "execution_count": 35,
     "metadata": {},
     "output_type": "execute_result"
    }
   ],
   "source": [
    "user_title = \"Data Scientist,Data Analyst,Data Engineer,Machine Learning Engineer\"\n",
    "user_skills = \"Python,Machine Learning,Deep Learning,Data Science,Data Analysis,Data Engineering,SQL,Tensorflow,Pytorch,Scikit-learn,Natural Language Processing,R\"\n",
    "user_degree = \"Bachelor's Degree\"\n",
    "user_experience = 1\n",
    "user_id = 1\n",
    "user_data = {\n",
    "    \"user_id\": user_id,\n",
    "    \"job_title\": user_title,\n",
    "    \"skills\": user_skills,\n",
    "    \"degree\": user_degree,\n",
    "    \"years_of_experience\": user_experience\n",
    "}\n",
    "user_data = pd.DataFrame(user_data, index=[0])\n",
    "user_data['user_id'].iloc[0]"
   ]
  },
  {
   "cell_type": "code",
   "execution_count": 1,
   "metadata": {},
   "outputs": [
    {
     "data": {
      "text/html": [
       "<div>\n",
       "<style scoped>\n",
       "    .dataframe tbody tr th:only-of-type {\n",
       "        vertical-align: middle;\n",
       "    }\n",
       "\n",
       "    .dataframe tbody tr th {\n",
       "        vertical-align: top;\n",
       "    }\n",
       "\n",
       "    .dataframe thead th {\n",
       "        text-align: right;\n",
       "    }\n",
       "</style>\n",
       "<table border=\"1\" class=\"dataframe\">\n",
       "  <thead>\n",
       "    <tr style=\"text-align: right;\">\n",
       "      <th></th>\n",
       "      <th>job_id</th>\n",
       "      <th>job_title</th>\n",
       "      <th>company_id</th>\n",
       "      <th>job_type</th>\n",
       "      <th>job_level</th>\n",
       "      <th>work_model</th>\n",
       "      <th>skills</th>\n",
       "      <th>min_experience</th>\n",
       "      <th>degree</th>\n",
       "      <th>skills.1</th>\n",
       "      <th>about</th>\n",
       "      <th>qualifications</th>\n",
       "    </tr>\n",
       "  </thead>\n",
       "  <tbody>\n",
       "    <tr>\n",
       "      <th>0</th>\n",
       "      <td>3935168115</td>\n",
       "      <td>DevOps Engineer</td>\n",
       "      <td>1</td>\n",
       "      <td>Contract</td>\n",
       "      <td>Entry level</td>\n",
       "      <td>On-site</td>\n",
       "      <td>Agile Application Development,Confluence,Conti...</td>\n",
       "      <td>4.0</td>\n",
       "      <td>bachelor</td>\n",
       "      <td>Agile Application Development,Confluence,Conti...</td>\n",
       "      <td>Requirements : Memiliki pengalaman minimal 4 t...</td>\n",
       "      <td>Bachelor's Degree,4+ years of work experience ...</td>\n",
       "    </tr>\n",
       "    <tr>\n",
       "      <th>1</th>\n",
       "      <td>3951984858</td>\n",
       "      <td>Software Engineer, Backend - Business Platform</td>\n",
       "      <td>2</td>\n",
       "      <td>Full-time</td>\n",
       "      <td>Associate</td>\n",
       "      <td>Hybrid</td>\n",
       "      <td>Back-End Web Development,Code Review,Communica...</td>\n",
       "      <td>NaN</td>\n",
       "      <td>NaN</td>\n",
       "      <td>Back-End Web Development,Code Review,Communica...</td>\n",
       "      <td>Company Description About Grab and our workpla...</td>\n",
       "      <td>NaN</td>\n",
       "    </tr>\n",
       "    <tr>\n",
       "      <th>2</th>\n",
       "      <td>3954206104</td>\n",
       "      <td>Sr. Officer-Rebuy &amp; CVM (Circle Jakarta Raya)</td>\n",
       "      <td>3</td>\n",
       "      <td>Full-time</td>\n",
       "      <td>Associate</td>\n",
       "      <td>On-site</td>\n",
       "      <td>Project Management,Analytical Skills,Customer ...</td>\n",
       "      <td>5.0</td>\n",
       "      <td>bachelor</td>\n",
       "      <td>Project Management,Analytical Skills,Customer ...</td>\n",
       "      <td>Develop and implement product strategies aimed...</td>\n",
       "      <td>Bachelor's Degree,5+ years of work experience ...</td>\n",
       "    </tr>\n",
       "    <tr>\n",
       "      <th>3</th>\n",
       "      <td>3966866576</td>\n",
       "      <td>Product Innovation</td>\n",
       "      <td>4</td>\n",
       "      <td>Full-time</td>\n",
       "      <td>Mid-Senior level</td>\n",
       "      <td>On-site</td>\n",
       "      <td>Collaboration Tools,Concept Development,Creati...</td>\n",
       "      <td>2.0</td>\n",
       "      <td>bachelor</td>\n",
       "      <td>Collaboration Tools,Concept Development,Creati...</td>\n",
       "      <td>REQUIREMENTS: A graduate of Bachelor/Master's ...</td>\n",
       "      <td>Bachelor's Degree,Can start immediately,2+ yea...</td>\n",
       "    </tr>\n",
       "    <tr>\n",
       "      <th>4</th>\n",
       "      <td>3965410324</td>\n",
       "      <td>Account Executive</td>\n",
       "      <td>5</td>\n",
       "      <td>Full-time</td>\n",
       "      <td>Entry level</td>\n",
       "      <td>On-site</td>\n",
       "      <td>Communication,Microsoft Office,Sales</td>\n",
       "      <td>1.0</td>\n",
       "      <td>bachelor</td>\n",
       "      <td>Communication,Microsoft Office,Sales</td>\n",
       "      <td>Responsibilities Build and maintain client rel...</td>\n",
       "      <td>Bachelor's Degree,1+ years of work experience ...</td>\n",
       "    </tr>\n",
       "  </tbody>\n",
       "</table>\n",
       "</div>"
      ],
      "text/plain": [
       "       job_id                                       job_title  company_id  \\\n",
       "0  3935168115                                 DevOps Engineer           1   \n",
       "1  3951984858  Software Engineer, Backend - Business Platform           2   \n",
       "2  3954206104   Sr. Officer-Rebuy & CVM (Circle Jakarta Raya)           3   \n",
       "3  3966866576                              Product Innovation           4   \n",
       "4  3965410324                               Account Executive           5   \n",
       "\n",
       "    job_type         job_level work_model  \\\n",
       "0   Contract       Entry level    On-site   \n",
       "1  Full-time         Associate     Hybrid   \n",
       "2  Full-time         Associate    On-site   \n",
       "3  Full-time  Mid-Senior level    On-site   \n",
       "4  Full-time       Entry level    On-site   \n",
       "\n",
       "                                              skills  min_experience  \\\n",
       "0  Agile Application Development,Confluence,Conti...             4.0   \n",
       "1  Back-End Web Development,Code Review,Communica...             NaN   \n",
       "2  Project Management,Analytical Skills,Customer ...             5.0   \n",
       "3  Collaboration Tools,Concept Development,Creati...             2.0   \n",
       "4               Communication,Microsoft Office,Sales             1.0   \n",
       "\n",
       "     degree                                           skills.1  \\\n",
       "0  bachelor  Agile Application Development,Confluence,Conti...   \n",
       "1       NaN  Back-End Web Development,Code Review,Communica...   \n",
       "2  bachelor  Project Management,Analytical Skills,Customer ...   \n",
       "3  bachelor  Collaboration Tools,Concept Development,Creati...   \n",
       "4  bachelor               Communication,Microsoft Office,Sales   \n",
       "\n",
       "                                               about  \\\n",
       "0  Requirements : Memiliki pengalaman minimal 4 t...   \n",
       "1  Company Description About Grab and our workpla...   \n",
       "2  Develop and implement product strategies aimed...   \n",
       "3  REQUIREMENTS: A graduate of Bachelor/Master's ...   \n",
       "4  Responsibilities Build and maintain client rel...   \n",
       "\n",
       "                                      qualifications  \n",
       "0  Bachelor's Degree,4+ years of work experience ...  \n",
       "1                                                NaN  \n",
       "2  Bachelor's Degree,5+ years of work experience ...  \n",
       "3  Bachelor's Degree,Can start immediately,2+ yea...  \n",
       "4  Bachelor's Degree,1+ years of work experience ...  "
      ]
     },
     "execution_count": 1,
     "metadata": {},
     "output_type": "execute_result"
    }
   ],
   "source": [
    "import pandas as pd\n",
    "\n",
    "data = pd.read_csv(\"job_for_migration.csv\")\n",
    "skills = pd.read_csv(\"skills.csv\")\n",
    "data.head()"
   ]
  },
  {
   "cell_type": "code",
   "execution_count": 4,
   "metadata": {},
   "outputs": [
    {
     "data": {
      "text/plain": [
       "0      3935168115\n",
       "1      3951984858\n",
       "2      3954206104\n",
       "3      3966866576\n",
       "4      3965410324\n",
       "          ...    \n",
       "984    3966845899\n",
       "985    3921442968\n",
       "986    3975184878\n",
       "987    3973946771\n",
       "988    3969560987\n",
       "Name: job_id, Length: 989, dtype: int64"
      ]
     },
     "execution_count": 4,
     "metadata": {},
     "output_type": "execute_result"
    }
   ],
   "source": [
    "job_skills"
   ]
  },
  {
   "cell_type": "code",
   "execution_count": 5,
   "metadata": {},
   "outputs": [],
   "source": [
    "def get_skill_id(skill_name):\n",
    "    try:\n",
    "        skill_names = skill_name.split(\",\")\n",
    "    except:\n",
    "        skill_names = []\n",
    "    skill_ids = []\n",
    "    for skill in skill_names:\n",
    "        skill = skill.strip() \n",
    "        matching_skills = skills[skills['skills'] == skill]\n",
    "        if not matching_skills.empty:\n",
    "            skill_ids.append(str(matching_skills['id'].iloc[0]))\n",
    "        else:\n",
    "            print(f\"Skill '{skill}' not found in the DataFrame.\")\n",
    "    return skill_ids\n",
    "\n",
    "skill_ids = data['skills'].apply(get_skill_id)"
   ]
  },
  {
   "cell_type": "code",
   "execution_count": 9,
   "metadata": {},
   "outputs": [],
   "source": [
    "job_skills = pd.concat([job_skills, skill_ids], axis=1)"
   ]
  },
  {
   "cell_type": "code",
   "execution_count": 11,
   "metadata": {},
   "outputs": [],
   "source": [
    "# Use the explode method to flatten the skills list\n",
    "job_skills_flattened = job_skills.explode('skills')\n",
    "\n",
    "# Rename the columns for clarity (optional)\n",
    "job_skills_flattened = job_skills_flattened.rename(columns={'skills': 'skill_id'})"
   ]
  },
  {
   "cell_type": "code",
   "execution_count": 18,
   "metadata": {},
   "outputs": [
    {
     "data": {
      "text/plain": [
       "job_id       0\n",
       "skill_id    28\n",
       "dtype: int64"
      ]
     },
     "execution_count": 18,
     "metadata": {},
     "output_type": "execute_result"
    }
   ],
   "source": [
    "job_skills_flattened.isna().sum()"
   ]
  },
  {
   "cell_type": "code",
   "execution_count": 19,
   "metadata": {},
   "outputs": [],
   "source": [
    "job_skills_flattened = job_skills_flattened.dropna(subset=['skill_id'])"
   ]
  },
  {
   "cell_type": "code",
   "execution_count": 21,
   "metadata": {},
   "outputs": [],
   "source": [
    "job_skills_flattened.to_csv(\"job_skills.csv\", index=False)"
   ]
  },
  {
   "cell_type": "code",
   "execution_count": 22,
   "metadata": {},
   "outputs": [
    {
     "data": {
      "text/plain": [
       "job_id              0\n",
       "job_title           0\n",
       "company_id          0\n",
       "job_type           11\n",
       "job_level         152\n",
       "work_model         89\n",
       "skills             28\n",
       "min_experience    518\n",
       "degree            493\n",
       "skills.1           28\n",
       "about               1\n",
       "qualifications    836\n",
       "dtype: int64"
      ]
     },
     "execution_count": 22,
     "metadata": {},
     "output_type": "execute_result"
    }
   ],
   "source": [
    "data = pd.read_csv(\"job_for_migration.csv\")\n",
    "data.isna().sum()"
   ]
  },
  {
   "cell_type": "code",
   "execution_count": 128,
   "metadata": {},
   "outputs": [
    {
     "data": {
      "text/plain": [
       "0                       [1, 2, 3, 4, 5, 6, 7]\n",
       "1          [8, 9, 10, 11, 12, 13, 14, 15, 16]\n",
       "2    [17, 18, 19, 20, 21, 22, 23, 24, 25, 26]\n",
       "3        [27, 28, 29, 30, 31, 32, 33, 34, 35]\n",
       "4                                [10, 36, 37]\n",
       "Name: skills, dtype: object"
      ]
     },
     "execution_count": 128,
     "metadata": {},
     "output_type": "execute_result"
    }
   ],
   "source": [
    "job_skills.head()"
   ]
  },
  {
   "cell_type": "code",
   "execution_count": 78,
   "metadata": {},
   "outputs": [],
   "source": [
    "def get_company_id(company_name):\n",
    "    company = companies[companies['company_name'] == company_name]\n",
    "    if company.empty:\n",
    "        return None\n",
    "    return company['id'].iloc[0]\n",
    "\n",
    "data['company_id'] = data['company_name'].apply(get_company_id)"
   ]
  },
  {
   "cell_type": "code",
   "execution_count": 79,
   "metadata": {},
   "outputs": [
    {
     "data": {
      "text/html": [
       "<div>\n",
       "<style scoped>\n",
       "    .dataframe tbody tr th:only-of-type {\n",
       "        vertical-align: middle;\n",
       "    }\n",
       "\n",
       "    .dataframe tbody tr th {\n",
       "        vertical-align: top;\n",
       "    }\n",
       "\n",
       "    .dataframe thead th {\n",
       "        text-align: right;\n",
       "    }\n",
       "</style>\n",
       "<table border=\"1\" class=\"dataframe\">\n",
       "  <thead>\n",
       "    <tr style=\"text-align: right;\">\n",
       "      <th></th>\n",
       "      <th>company_id</th>\n",
       "      <th>company_name</th>\n",
       "    </tr>\n",
       "  </thead>\n",
       "  <tbody>\n",
       "    <tr>\n",
       "      <th>437</th>\n",
       "      <td>217.0</td>\n",
       "      <td>Tekvaly</td>\n",
       "    </tr>\n",
       "    <tr>\n",
       "      <th>940</th>\n",
       "      <td>86.0</td>\n",
       "      <td>Cermati.com</td>\n",
       "    </tr>\n",
       "    <tr>\n",
       "      <th>171</th>\n",
       "      <td>3.0</td>\n",
       "      <td>PT. Indosat Tbk</td>\n",
       "    </tr>\n",
       "    <tr>\n",
       "      <th>639</th>\n",
       "      <td>56.0</td>\n",
       "      <td>Rocketindo</td>\n",
       "    </tr>\n",
       "    <tr>\n",
       "      <th>654</th>\n",
       "      <td>8.0</td>\n",
       "      <td>TikTok</td>\n",
       "    </tr>\n",
       "  </tbody>\n",
       "</table>\n",
       "</div>"
      ],
      "text/plain": [
       "     company_id     company_name\n",
       "437       217.0          Tekvaly\n",
       "940        86.0      Cermati.com\n",
       "171         3.0  PT. Indosat Tbk\n",
       "639        56.0       Rocketindo\n",
       "654         8.0           TikTok"
      ]
     },
     "execution_count": 79,
     "metadata": {},
     "output_type": "execute_result"
    }
   ],
   "source": [
    "data[['company_id', 'company_name']].sample(5)"
   ]
  },
  {
   "cell_type": "code",
   "execution_count": 24,
   "metadata": {},
   "outputs": [],
   "source": [
    "column_order = ['job_id', 'job_title', 'company_id', 'job_type', \"job_level\", 'work_model', 'skills', 'min_experience', 'degree', 'about', 'qualifications']"
   ]
  },
  {
   "cell_type": "code",
   "execution_count": 25,
   "metadata": {},
   "outputs": [
    {
     "data": {
      "text/html": [
       "<div>\n",
       "<style scoped>\n",
       "    .dataframe tbody tr th:only-of-type {\n",
       "        vertical-align: middle;\n",
       "    }\n",
       "\n",
       "    .dataframe tbody tr th {\n",
       "        vertical-align: top;\n",
       "    }\n",
       "\n",
       "    .dataframe thead th {\n",
       "        text-align: right;\n",
       "    }\n",
       "</style>\n",
       "<table border=\"1\" class=\"dataframe\">\n",
       "  <thead>\n",
       "    <tr style=\"text-align: right;\">\n",
       "      <th></th>\n",
       "      <th>job_id</th>\n",
       "      <th>job_title</th>\n",
       "      <th>company_id</th>\n",
       "      <th>job_type</th>\n",
       "      <th>job_level</th>\n",
       "      <th>work_model</th>\n",
       "      <th>skills</th>\n",
       "      <th>min_experience</th>\n",
       "      <th>degree</th>\n",
       "      <th>about</th>\n",
       "      <th>qualifications</th>\n",
       "    </tr>\n",
       "  </thead>\n",
       "  <tbody>\n",
       "    <tr>\n",
       "      <th>0</th>\n",
       "      <td>3935168115</td>\n",
       "      <td>DevOps Engineer</td>\n",
       "      <td>1</td>\n",
       "      <td>Contract</td>\n",
       "      <td>Entry level</td>\n",
       "      <td>On-site</td>\n",
       "      <td>Agile Application Development,Confluence,Conti...</td>\n",
       "      <td>4.0</td>\n",
       "      <td>bachelor</td>\n",
       "      <td>Requirements : Memiliki pengalaman minimal 4 t...</td>\n",
       "      <td>Bachelor's Degree,4+ years of work experience ...</td>\n",
       "    </tr>\n",
       "    <tr>\n",
       "      <th>1</th>\n",
       "      <td>3951984858</td>\n",
       "      <td>Software Engineer, Backend - Business Platform</td>\n",
       "      <td>2</td>\n",
       "      <td>Full-time</td>\n",
       "      <td>Associate</td>\n",
       "      <td>Hybrid</td>\n",
       "      <td>Back-End Web Development,Code Review,Communica...</td>\n",
       "      <td>NaN</td>\n",
       "      <td>NaN</td>\n",
       "      <td>Company Description About Grab and our workpla...</td>\n",
       "      <td>NaN</td>\n",
       "    </tr>\n",
       "    <tr>\n",
       "      <th>2</th>\n",
       "      <td>3954206104</td>\n",
       "      <td>Sr. Officer-Rebuy &amp; CVM (Circle Jakarta Raya)</td>\n",
       "      <td>3</td>\n",
       "      <td>Full-time</td>\n",
       "      <td>Associate</td>\n",
       "      <td>On-site</td>\n",
       "      <td>Project Management,Analytical Skills,Customer ...</td>\n",
       "      <td>5.0</td>\n",
       "      <td>bachelor</td>\n",
       "      <td>Develop and implement product strategies aimed...</td>\n",
       "      <td>Bachelor's Degree,5+ years of work experience ...</td>\n",
       "    </tr>\n",
       "    <tr>\n",
       "      <th>3</th>\n",
       "      <td>3966866576</td>\n",
       "      <td>Product Innovation</td>\n",
       "      <td>4</td>\n",
       "      <td>Full-time</td>\n",
       "      <td>Mid-Senior level</td>\n",
       "      <td>On-site</td>\n",
       "      <td>Collaboration Tools,Concept Development,Creati...</td>\n",
       "      <td>2.0</td>\n",
       "      <td>bachelor</td>\n",
       "      <td>REQUIREMENTS: A graduate of Bachelor/Master's ...</td>\n",
       "      <td>Bachelor's Degree,Can start immediately,2+ yea...</td>\n",
       "    </tr>\n",
       "    <tr>\n",
       "      <th>4</th>\n",
       "      <td>3965410324</td>\n",
       "      <td>Account Executive</td>\n",
       "      <td>5</td>\n",
       "      <td>Full-time</td>\n",
       "      <td>Entry level</td>\n",
       "      <td>On-site</td>\n",
       "      <td>Communication,Microsoft Office,Sales</td>\n",
       "      <td>1.0</td>\n",
       "      <td>bachelor</td>\n",
       "      <td>Responsibilities Build and maintain client rel...</td>\n",
       "      <td>Bachelor's Degree,1+ years of work experience ...</td>\n",
       "    </tr>\n",
       "  </tbody>\n",
       "</table>\n",
       "</div>"
      ],
      "text/plain": [
       "       job_id                                       job_title  company_id  \\\n",
       "0  3935168115                                 DevOps Engineer           1   \n",
       "1  3951984858  Software Engineer, Backend - Business Platform           2   \n",
       "2  3954206104   Sr. Officer-Rebuy & CVM (Circle Jakarta Raya)           3   \n",
       "3  3966866576                              Product Innovation           4   \n",
       "4  3965410324                               Account Executive           5   \n",
       "\n",
       "    job_type         job_level work_model  \\\n",
       "0   Contract       Entry level    On-site   \n",
       "1  Full-time         Associate     Hybrid   \n",
       "2  Full-time         Associate    On-site   \n",
       "3  Full-time  Mid-Senior level    On-site   \n",
       "4  Full-time       Entry level    On-site   \n",
       "\n",
       "                                              skills  min_experience  \\\n",
       "0  Agile Application Development,Confluence,Conti...             4.0   \n",
       "1  Back-End Web Development,Code Review,Communica...             NaN   \n",
       "2  Project Management,Analytical Skills,Customer ...             5.0   \n",
       "3  Collaboration Tools,Concept Development,Creati...             2.0   \n",
       "4               Communication,Microsoft Office,Sales             1.0   \n",
       "\n",
       "     degree                                              about  \\\n",
       "0  bachelor  Requirements : Memiliki pengalaman minimal 4 t...   \n",
       "1       NaN  Company Description About Grab and our workpla...   \n",
       "2  bachelor  Develop and implement product strategies aimed...   \n",
       "3  bachelor  REQUIREMENTS: A graduate of Bachelor/Master's ...   \n",
       "4  bachelor  Responsibilities Build and maintain client rel...   \n",
       "\n",
       "                                      qualifications  \n",
       "0  Bachelor's Degree,4+ years of work experience ...  \n",
       "1                                                NaN  \n",
       "2  Bachelor's Degree,5+ years of work experience ...  \n",
       "3  Bachelor's Degree,Can start immediately,2+ yea...  \n",
       "4  Bachelor's Degree,1+ years of work experience ...  "
      ]
     },
     "execution_count": 25,
     "metadata": {},
     "output_type": "execute_result"
    }
   ],
   "source": [
    "data = data[column_order]\n",
    "data.head()"
   ]
  },
  {
   "cell_type": "code",
   "execution_count": 83,
   "metadata": {},
   "outputs": [],
   "source": [
    "data['company_id'].isnull().sum()\n",
    "data['company_id'] = data['company_id'].fillna(0).astype(int) "
   ]
  },
  {
   "cell_type": "code",
   "execution_count": 85,
   "metadata": {},
   "outputs": [
    {
     "data": {
      "text/html": [
       "<div>\n",
       "<style scoped>\n",
       "    .dataframe tbody tr th:only-of-type {\n",
       "        vertical-align: middle;\n",
       "    }\n",
       "\n",
       "    .dataframe tbody tr th {\n",
       "        vertical-align: top;\n",
       "    }\n",
       "\n",
       "    .dataframe thead th {\n",
       "        text-align: right;\n",
       "    }\n",
       "</style>\n",
       "<table border=\"1\" class=\"dataframe\">\n",
       "  <thead>\n",
       "    <tr style=\"text-align: right;\">\n",
       "      <th></th>\n",
       "      <th>job_id</th>\n",
       "      <th>job_title</th>\n",
       "      <th>company_id</th>\n",
       "      <th>job_type</th>\n",
       "      <th>job_level</th>\n",
       "      <th>work_model</th>\n",
       "      <th>skills</th>\n",
       "      <th>min_experience</th>\n",
       "      <th>degree</th>\n",
       "      <th>skills</th>\n",
       "      <th>about</th>\n",
       "      <th>qualifications</th>\n",
       "    </tr>\n",
       "  </thead>\n",
       "  <tbody>\n",
       "    <tr>\n",
       "      <th>104</th>\n",
       "      <td>3941469729</td>\n",
       "      <td>Software Engineer</td>\n",
       "      <td>6</td>\n",
       "      <td>Full-time</td>\n",
       "      <td>Mid-Senior level</td>\n",
       "      <td>On-site</td>\n",
       "      <td>Back-End Web Development,Java,Analytical Skill...</td>\n",
       "      <td>3.0</td>\n",
       "      <td>bachelor</td>\n",
       "      <td>Back-End Web Development,Java,Analytical Skill...</td>\n",
       "      <td>It's fun to work in a company where people tru...</td>\n",
       "      <td>NaN</td>\n",
       "    </tr>\n",
       "    <tr>\n",
       "      <th>503</th>\n",
       "      <td>3976903819</td>\n",
       "      <td>TikTok Shop - Agency Partner Intern (Indonesia...</td>\n",
       "      <td>8</td>\n",
       "      <td>Full-time</td>\n",
       "      <td>NaN</td>\n",
       "      <td>NaN</td>\n",
       "      <td>Analytical Skills,Critical Thinking,Data Analy...</td>\n",
       "      <td>NaN</td>\n",
       "      <td>bachelor</td>\n",
       "      <td>Analytical Skills,Critical Thinking,Data Analy...</td>\n",
       "      <td>Responsibilities TikTok is the leading destina...</td>\n",
       "      <td>NaN</td>\n",
       "    </tr>\n",
       "    <tr>\n",
       "      <th>859</th>\n",
       "      <td>3948665572</td>\n",
       "      <td>Web Programmer</td>\n",
       "      <td>419</td>\n",
       "      <td>Full-time</td>\n",
       "      <td>Entry level</td>\n",
       "      <td>Hybrid</td>\n",
       "      <td>Cascading Style Sheets (CSS),HTML,Java,JavaScr...</td>\n",
       "      <td>NaN</td>\n",
       "      <td>NaN</td>\n",
       "      <td>Cascading Style Sheets (CSS),HTML,Java,JavaScr...</td>\n",
       "      <td>Build Web or API using Java Spring MVC. Handle...</td>\n",
       "      <td>NaN</td>\n",
       "    </tr>\n",
       "    <tr>\n",
       "      <th>914</th>\n",
       "      <td>3953972345</td>\n",
       "      <td>Risk Analyst</td>\n",
       "      <td>13</td>\n",
       "      <td>Full-time</td>\n",
       "      <td>Entry level</td>\n",
       "      <td>On-site</td>\n",
       "      <td>Analytical Skills,Attention to Detail,Communic...</td>\n",
       "      <td>2.0</td>\n",
       "      <td>bachelor</td>\n",
       "      <td>Analytical Skills,Attention to Detail,Communic...</td>\n",
       "      <td>As a Fraud Risk Analyst at Gojek, you will pla...</td>\n",
       "      <td>NaN</td>\n",
       "    </tr>\n",
       "    <tr>\n",
       "      <th>493</th>\n",
       "      <td>3930734892</td>\n",
       "      <td>Software Engineer (Android) - Travel Activities</td>\n",
       "      <td>6</td>\n",
       "      <td>Full-time</td>\n",
       "      <td>Entry level</td>\n",
       "      <td>On-site</td>\n",
       "      <td>Application Development,Back-End Web Developme...</td>\n",
       "      <td>0.0</td>\n",
       "      <td>bachelors</td>\n",
       "      <td>Application Development,Back-End Web Developme...</td>\n",
       "      <td>It's fun to work in a company where people tru...</td>\n",
       "      <td>NaN</td>\n",
       "    </tr>\n",
       "  </tbody>\n",
       "</table>\n",
       "</div>"
      ],
      "text/plain": [
       "         job_id                                          job_title  \\\n",
       "104  3941469729                                  Software Engineer   \n",
       "503  3976903819  TikTok Shop - Agency Partner Intern (Indonesia...   \n",
       "859  3948665572                                     Web Programmer   \n",
       "914  3953972345                                       Risk Analyst   \n",
       "493  3930734892    Software Engineer (Android) - Travel Activities   \n",
       "\n",
       "     company_id   job_type         job_level work_model  \\\n",
       "104           6  Full-time  Mid-Senior level    On-site   \n",
       "503           8  Full-time               NaN        NaN   \n",
       "859         419  Full-time       Entry level     Hybrid   \n",
       "914          13  Full-time       Entry level    On-site   \n",
       "493           6  Full-time       Entry level    On-site   \n",
       "\n",
       "                                                skills  min_experience  \\\n",
       "104  Back-End Web Development,Java,Analytical Skill...             3.0   \n",
       "503  Analytical Skills,Critical Thinking,Data Analy...             NaN   \n",
       "859  Cascading Style Sheets (CSS),HTML,Java,JavaScr...             NaN   \n",
       "914  Analytical Skills,Attention to Detail,Communic...             2.0   \n",
       "493  Application Development,Back-End Web Developme...             0.0   \n",
       "\n",
       "        degree                                             skills  \\\n",
       "104   bachelor  Back-End Web Development,Java,Analytical Skill...   \n",
       "503   bachelor  Analytical Skills,Critical Thinking,Data Analy...   \n",
       "859        NaN  Cascading Style Sheets (CSS),HTML,Java,JavaScr...   \n",
       "914   bachelor  Analytical Skills,Attention to Detail,Communic...   \n",
       "493  bachelors  Application Development,Back-End Web Developme...   \n",
       "\n",
       "                                                 about qualifications  \n",
       "104  It's fun to work in a company where people tru...            NaN  \n",
       "503  Responsibilities TikTok is the leading destina...            NaN  \n",
       "859  Build Web or API using Java Spring MVC. Handle...            NaN  \n",
       "914  As a Fraud Risk Analyst at Gojek, you will pla...            NaN  \n",
       "493  It's fun to work in a company where people tru...            NaN  "
      ]
     },
     "execution_count": 85,
     "metadata": {},
     "output_type": "execute_result"
    }
   ],
   "source": [
    "data.sample(5)"
   ]
  },
  {
   "cell_type": "code",
   "execution_count": 26,
   "metadata": {},
   "outputs": [],
   "source": [
    "data.to_csv(\"job_for_migration.csv\", index=False)"
   ]
  },
  {
   "cell_type": "code",
   "execution_count": 1,
   "metadata": {},
   "outputs": [],
   "source": [
    "import pandas as pd"
   ]
  },
  {
   "cell_type": "code",
   "execution_count": 2,
   "metadata": {},
   "outputs": [
    {
     "data": {
      "text/plain": [
       "job_id              0\n",
       "job_title           0\n",
       "company_id          0\n",
       "job_type           11\n",
       "job_level         152\n",
       "work_model         89\n",
       "skills             28\n",
       "min_experience      0\n",
       "degree            493\n",
       "about               1\n",
       "qualifications    836\n",
       "dtype: int64"
      ]
     },
     "execution_count": 2,
     "metadata": {},
     "output_type": "execute_result"
    }
   ],
   "source": [
    "data = pd.read_csv(\"job_for_migration.csv\")\n",
    "data.isna().sum()"
   ]
  },
  {
   "cell_type": "code",
   "execution_count": 3,
   "metadata": {},
   "outputs": [],
   "source": [
    "# fill missing min_experience with -1\n",
    "data['min_experience'] = data['min_experience'].fillna(-1)"
   ]
  },
  {
   "cell_type": "code",
   "execution_count": 9,
   "metadata": {},
   "outputs": [],
   "source": [
    "data2 = pd.read_csv(\"job_preprocessed.csv\")\n",
    "data2 = data2[['job_id', 'location']]"
   ]
  },
  {
   "cell_type": "code",
   "execution_count": 11,
   "metadata": {},
   "outputs": [
    {
     "data": {
      "text/plain": [
       "Index(['job_id', 'job_title', 'company_id', 'job_type', 'job_level',\n",
       "       'work_model', 'skills', 'min_experience', 'degree', 'about',\n",
       "       'qualifications', 'location'],\n",
       "      dtype='object')"
      ]
     },
     "execution_count": 11,
     "metadata": {},
     "output_type": "execute_result"
    }
   ],
   "source": [
    "merged_data = pd.merge(data, data2, on='job_id')\n",
    "merged_data.columns"
   ]
  },
  {
   "cell_type": "code",
   "execution_count": 17,
   "metadata": {},
   "outputs": [],
   "source": [
    "new_col = ['job_id', 'job_title', 'company_id', 'job_type', 'job_level',\n",
    "       'work_model','location', 'skills', 'min_experience', 'degree', 'about',\n",
    "       'qualifications']\n",
    "merged_data = merged_data[new_col]\n",
    "merged_data.to_csv(\"job_for_migration.csv\", index=False)"
   ]
  },
  {
   "cell_type": "code",
   "execution_count": 16,
   "metadata": {},
   "outputs": [
    {
     "data": {
      "text/plain": [
       "job_id              0\n",
       "job_title           0\n",
       "company_id          0\n",
       "job_type           11\n",
       "job_level         152\n",
       "work_model         89\n",
       "skills             28\n",
       "min_experience      0\n",
       "degree            493\n",
       "about               1\n",
       "qualifications    836\n",
       "dtype: int64"
      ]
     },
     "execution_count": 16,
     "metadata": {},
     "output_type": "execute_result"
    }
   ],
   "source": [
    "data.isna().sum()"
   ]
  },
  {
   "cell_type": "code",
   "execution_count": 4,
   "metadata": {},
   "outputs": [],
   "source": [
    "data.isna().sum()\n",
    "data.to_csv(\"job_for_migration2.csv\", index=False)"
   ]
  }
 ],
 "metadata": {
  "kernelspec": {
   "display_name": "Python 3",
   "language": "python",
   "name": "python3"
  },
  "language_info": {
   "codemirror_mode": {
    "name": "ipython",
    "version": 3
   },
   "file_extension": ".py",
   "mimetype": "text/x-python",
   "name": "python",
   "nbconvert_exporter": "python",
   "pygments_lexer": "ipython3",
   "version": "3.7.6"
  }
 },
 "nbformat": 4,
 "nbformat_minor": 2
}
